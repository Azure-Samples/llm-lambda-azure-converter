{
 "cells": [
  {
   "cell_type": "markdown",
   "id": "432ba143",
   "metadata": {},
   "source": [
    "# OpenAI tests for lambda - azure function converter\n",
    "\n",
    "## Testing Chain of Thought Prompting (CoT)"
   ]
  },
  {
   "cell_type": "markdown",
   "id": "b4caffe1",
   "metadata": {},
   "source": [
    "### Install the necessary libraries"
   ]
  },
  {
   "cell_type": "code",
   "execution_count": 1,
   "id": "bc936208",
   "metadata": {},
   "outputs": [
    {
     "name": "stdout",
     "output_type": "stream",
     "text": [
      "Requirement already satisfied: langchain in c:\\workspace\\americanas\\lambda-azfunction-converter-poc\\.conda\\lib\\site-packages (0.0.352)\n",
      "Requirement already satisfied: PyYAML>=5.3 in c:\\workspace\\americanas\\lambda-azfunction-converter-poc\\.conda\\lib\\site-packages (from langchain) (6.0.1)\n",
      "Requirement already satisfied: SQLAlchemy<3,>=1.4 in c:\\workspace\\americanas\\lambda-azfunction-converter-poc\\.conda\\lib\\site-packages (from langchain) (2.0.23)\n",
      "Requirement already satisfied: aiohttp<4.0.0,>=3.8.3 in c:\\workspace\\americanas\\lambda-azfunction-converter-poc\\.conda\\lib\\site-packages (from langchain) (3.9.1)\n",
      "Requirement already satisfied: dataclasses-json<0.7,>=0.5.7 in c:\\workspace\\americanas\\lambda-azfunction-converter-poc\\.conda\\lib\\site-packages (from langchain) (0.6.3)\n",
      "Requirement already satisfied: jsonpatch<2.0,>=1.33 in c:\\workspace\\americanas\\lambda-azfunction-converter-poc\\.conda\\lib\\site-packages (from langchain) (1.33)\n",
      "Requirement already satisfied: langchain-community<0.1,>=0.0.2 in c:\\workspace\\americanas\\lambda-azfunction-converter-poc\\.conda\\lib\\site-packages (from langchain) (0.0.6)\n",
      "Requirement already satisfied: langchain-core<0.2,>=0.1 in c:\\workspace\\americanas\\lambda-azfunction-converter-poc\\.conda\\lib\\site-packages (from langchain) (0.1.3)\n",
      "Requirement already satisfied: langsmith<0.1.0,>=0.0.70 in c:\\workspace\\americanas\\lambda-azfunction-converter-poc\\.conda\\lib\\site-packages (from langchain) (0.0.73)\n",
      "Requirement already satisfied: numpy<2,>=1 in c:\\workspace\\americanas\\lambda-azfunction-converter-poc\\.conda\\lib\\site-packages (from langchain) (1.26.2)\n",
      "Requirement already satisfied: pydantic<3,>=1 in c:\\workspace\\americanas\\lambda-azfunction-converter-poc\\.conda\\lib\\site-packages (from langchain) (2.5.2)\n",
      "Requirement already satisfied: requests<3,>=2 in c:\\workspace\\americanas\\lambda-azfunction-converter-poc\\.conda\\lib\\site-packages (from langchain) (2.31.0)\n",
      "Requirement already satisfied: tenacity<9.0.0,>=8.1.0 in c:\\workspace\\americanas\\lambda-azfunction-converter-poc\\.conda\\lib\\site-packages (from langchain) (8.2.3)\n",
      "Requirement already satisfied: attrs>=17.3.0 in c:\\workspace\\americanas\\lambda-azfunction-converter-poc\\.conda\\lib\\site-packages (from aiohttp<4.0.0,>=3.8.3->langchain) (23.1.0)\n",
      "Requirement already satisfied: multidict<7.0,>=4.5 in c:\\workspace\\americanas\\lambda-azfunction-converter-poc\\.conda\\lib\\site-packages (from aiohttp<4.0.0,>=3.8.3->langchain) (6.0.4)\n",
      "Requirement already satisfied: yarl<2.0,>=1.0 in c:\\workspace\\americanas\\lambda-azfunction-converter-poc\\.conda\\lib\\site-packages (from aiohttp<4.0.0,>=3.8.3->langchain) (1.9.4)\n",
      "Requirement already satisfied: frozenlist>=1.1.1 in c:\\workspace\\americanas\\lambda-azfunction-converter-poc\\.conda\\lib\\site-packages (from aiohttp<4.0.0,>=3.8.3->langchain) (1.4.1)\n",
      "Requirement already satisfied: aiosignal>=1.1.2 in c:\\workspace\\americanas\\lambda-azfunction-converter-poc\\.conda\\lib\\site-packages (from aiohttp<4.0.0,>=3.8.3->langchain) (1.3.1)\n",
      "Requirement already satisfied: marshmallow<4.0.0,>=3.18.0 in c:\\workspace\\americanas\\lambda-azfunction-converter-poc\\.conda\\lib\\site-packages (from dataclasses-json<0.7,>=0.5.7->langchain) (3.20.1)\n",
      "Requirement already satisfied: typing-inspect<1,>=0.4.0 in c:\\workspace\\americanas\\lambda-azfunction-converter-poc\\.conda\\lib\\site-packages (from dataclasses-json<0.7,>=0.5.7->langchain) (0.9.0)\n",
      "Requirement already satisfied: jsonpointer>=1.9 in c:\\workspace\\americanas\\lambda-azfunction-converter-poc\\.conda\\lib\\site-packages (from jsonpatch<2.0,>=1.33->langchain) (2.4)\n",
      "Requirement already satisfied: anyio<5,>=3 in c:\\workspace\\americanas\\lambda-azfunction-converter-poc\\.conda\\lib\\site-packages (from langchain-core<0.2,>=0.1->langchain) (3.7.1)\n",
      "Requirement already satisfied: packaging<24.0,>=23.2 in c:\\workspace\\americanas\\lambda-azfunction-converter-poc\\.conda\\lib\\site-packages (from langchain-core<0.2,>=0.1->langchain) (23.2)\n",
      "Requirement already satisfied: annotated-types>=0.4.0 in c:\\workspace\\americanas\\lambda-azfunction-converter-poc\\.conda\\lib\\site-packages (from pydantic<3,>=1->langchain) (0.6.0)\n",
      "Requirement already satisfied: pydantic-core==2.14.5 in c:\\workspace\\americanas\\lambda-azfunction-converter-poc\\.conda\\lib\\site-packages (from pydantic<3,>=1->langchain) (2.14.5)\n",
      "Requirement already satisfied: typing-extensions>=4.6.1 in c:\\workspace\\americanas\\lambda-azfunction-converter-poc\\.conda\\lib\\site-packages (from pydantic<3,>=1->langchain) (4.9.0)\n",
      "Requirement already satisfied: charset-normalizer<4,>=2 in c:\\workspace\\americanas\\lambda-azfunction-converter-poc\\.conda\\lib\\site-packages (from requests<3,>=2->langchain) (3.3.2)\n",
      "Requirement already satisfied: idna<4,>=2.5 in c:\\workspace\\americanas\\lambda-azfunction-converter-poc\\.conda\\lib\\site-packages (from requests<3,>=2->langchain) (3.6)\n",
      "Requirement already satisfied: urllib3<3,>=1.21.1 in c:\\workspace\\americanas\\lambda-azfunction-converter-poc\\.conda\\lib\\site-packages (from requests<3,>=2->langchain) (1.26.18)\n",
      "Requirement already satisfied: certifi>=2017.4.17 in c:\\workspace\\americanas\\lambda-azfunction-converter-poc\\.conda\\lib\\site-packages (from requests<3,>=2->langchain) (2023.11.17)\n",
      "Requirement already satisfied: greenlet!=0.4.17 in c:\\workspace\\americanas\\lambda-azfunction-converter-poc\\.conda\\lib\\site-packages (from SQLAlchemy<3,>=1.4->langchain) (3.0.2)\n",
      "Requirement already satisfied: sniffio>=1.1 in c:\\workspace\\americanas\\lambda-azfunction-converter-poc\\.conda\\lib\\site-packages (from anyio<5,>=3->langchain-core<0.2,>=0.1->langchain) (1.3.0)\n",
      "Requirement already satisfied: mypy-extensions>=0.3.0 in c:\\workspace\\americanas\\lambda-azfunction-converter-poc\\.conda\\lib\\site-packages (from typing-inspect<1,>=0.4.0->dataclasses-json<0.7,>=0.5.7->langchain) (1.0.0)\n",
      "Note: you may need to restart the kernel to use updated packages.\n",
      "Requirement already satisfied: openai in c:\\workspace\\americanas\\lambda-azfunction-converter-poc\\.conda\\lib\\site-packages (1.4.0)\n",
      "Requirement already satisfied: anyio<5,>=3.5.0 in c:\\workspace\\americanas\\lambda-azfunction-converter-poc\\.conda\\lib\\site-packages (from openai) (3.7.1)\n",
      "Requirement already satisfied: distro<2,>=1.7.0 in c:\\workspace\\americanas\\lambda-azfunction-converter-poc\\.conda\\lib\\site-packages (from openai) (1.8.0)\n",
      "Requirement already satisfied: httpx<1,>=0.23.0 in c:\\workspace\\americanas\\lambda-azfunction-converter-poc\\.conda\\lib\\site-packages (from openai) (0.25.2)\n",
      "Requirement already satisfied: pydantic<3,>=1.9.0 in c:\\workspace\\americanas\\lambda-azfunction-converter-poc\\.conda\\lib\\site-packages (from openai) (2.5.2)\n",
      "Requirement already satisfied: sniffio in c:\\workspace\\americanas\\lambda-azfunction-converter-poc\\.conda\\lib\\site-packages (from openai) (1.3.0)\n",
      "Requirement already satisfied: tqdm>4 in c:\\workspace\\americanas\\lambda-azfunction-converter-poc\\.conda\\lib\\site-packages (from openai) (4.66.1)\n",
      "Requirement already satisfied: typing-extensions<5,>=4.5 in c:\\workspace\\americanas\\lambda-azfunction-converter-poc\\.conda\\lib\\site-packages (from openai) (4.9.0)\n",
      "Requirement already satisfied: idna>=2.8 in c:\\workspace\\americanas\\lambda-azfunction-converter-poc\\.conda\\lib\\site-packages (from anyio<5,>=3.5.0->openai) (3.6)\n",
      "Requirement already satisfied: certifi in c:\\workspace\\americanas\\lambda-azfunction-converter-poc\\.conda\\lib\\site-packages (from httpx<1,>=0.23.0->openai) (2023.11.17)\n",
      "Requirement already satisfied: httpcore==1.* in c:\\workspace\\americanas\\lambda-azfunction-converter-poc\\.conda\\lib\\site-packages (from httpx<1,>=0.23.0->openai) (1.0.2)\n",
      "Requirement already satisfied: h11<0.15,>=0.13 in c:\\workspace\\americanas\\lambda-azfunction-converter-poc\\.conda\\lib\\site-packages (from httpcore==1.*->httpx<1,>=0.23.0->openai) (0.14.0)\n",
      "Requirement already satisfied: annotated-types>=0.4.0 in c:\\workspace\\americanas\\lambda-azfunction-converter-poc\\.conda\\lib\\site-packages (from pydantic<3,>=1.9.0->openai) (0.6.0)\n",
      "Requirement already satisfied: pydantic-core==2.14.5 in c:\\workspace\\americanas\\lambda-azfunction-converter-poc\\.conda\\lib\\site-packages (from pydantic<3,>=1.9.0->openai) (2.14.5)\n",
      "Requirement already satisfied: colorama in c:\\workspace\\americanas\\lambda-azfunction-converter-poc\\.conda\\lib\\site-packages (from tqdm>4->openai) (0.4.6)\n",
      "Note: you may need to restart the kernel to use updated packages.\n",
      "Requirement already satisfied: chromadb in c:\\workspace\\americanas\\lambda-azfunction-converter-poc\\.conda\\lib\\site-packages (0.4.21)\n",
      "Requirement already satisfied: requests>=2.28 in c:\\workspace\\americanas\\lambda-azfunction-converter-poc\\.conda\\lib\\site-packages (from chromadb) (2.31.0)\n",
      "Requirement already satisfied: pydantic>=1.9 in c:\\workspace\\americanas\\lambda-azfunction-converter-poc\\.conda\\lib\\site-packages (from chromadb) (2.5.2)\n",
      "Requirement already satisfied: chroma-hnswlib==0.7.3 in c:\\workspace\\americanas\\lambda-azfunction-converter-poc\\.conda\\lib\\site-packages (from chromadb) (0.7.3)\n",
      "Requirement already satisfied: fastapi>=0.95.2 in c:\\workspace\\americanas\\lambda-azfunction-converter-poc\\.conda\\lib\\site-packages (from chromadb) (0.105.0)\n",
      "Requirement already satisfied: uvicorn>=0.18.3 in c:\\workspace\\americanas\\lambda-azfunction-converter-poc\\.conda\\lib\\site-packages (from uvicorn[standard]>=0.18.3->chromadb) (0.25.0)\n",
      "Requirement already satisfied: numpy>=1.22.5 in c:\\workspace\\americanas\\lambda-azfunction-converter-poc\\.conda\\lib\\site-packages (from chromadb) (1.26.2)\n",
      "Requirement already satisfied: posthog>=2.4.0 in c:\\workspace\\americanas\\lambda-azfunction-converter-poc\\.conda\\lib\\site-packages (from chromadb) (3.1.0)\n",
      "Requirement already satisfied: typing-extensions>=4.5.0 in c:\\workspace\\americanas\\lambda-azfunction-converter-poc\\.conda\\lib\\site-packages (from chromadb) (4.9.0)\n",
      "Requirement already satisfied: pulsar-client>=3.1.0 in c:\\workspace\\americanas\\lambda-azfunction-converter-poc\\.conda\\lib\\site-packages (from chromadb) (3.3.0)\n",
      "Requirement already satisfied: onnxruntime>=1.14.1 in c:\\workspace\\americanas\\lambda-azfunction-converter-poc\\.conda\\lib\\site-packages (from chromadb) (1.16.3)\n",
      "Requirement already satisfied: opentelemetry-api>=1.2.0 in c:\\workspace\\americanas\\lambda-azfunction-converter-poc\\.conda\\lib\\site-packages (from chromadb) (1.22.0)\n",
      "Requirement already satisfied: opentelemetry-exporter-otlp-proto-grpc>=1.2.0 in c:\\workspace\\americanas\\lambda-azfunction-converter-poc\\.conda\\lib\\site-packages (from chromadb) (1.22.0)\n",
      "Requirement already satisfied: opentelemetry-instrumentation-fastapi>=0.41b0 in c:\\workspace\\americanas\\lambda-azfunction-converter-poc\\.conda\\lib\\site-packages (from chromadb) (0.43b0)\n",
      "Requirement already satisfied: opentelemetry-sdk>=1.2.0 in c:\\workspace\\americanas\\lambda-azfunction-converter-poc\\.conda\\lib\\site-packages (from chromadb) (1.22.0)\n",
      "Requirement already satisfied: tokenizers>=0.13.2 in c:\\workspace\\americanas\\lambda-azfunction-converter-poc\\.conda\\lib\\site-packages (from chromadb) (0.15.0)\n",
      "Requirement already satisfied: pypika>=0.48.9 in c:\\workspace\\americanas\\lambda-azfunction-converter-poc\\.conda\\lib\\site-packages (from chromadb) (0.48.9)\n",
      "Requirement already satisfied: tqdm>=4.65.0 in c:\\workspace\\americanas\\lambda-azfunction-converter-poc\\.conda\\lib\\site-packages (from chromadb) (4.66.1)\n",
      "Requirement already satisfied: overrides>=7.3.1 in c:\\workspace\\americanas\\lambda-azfunction-converter-poc\\.conda\\lib\\site-packages (from chromadb) (7.4.0)\n",
      "Requirement already satisfied: importlib-resources in c:\\workspace\\americanas\\lambda-azfunction-converter-poc\\.conda\\lib\\site-packages (from chromadb) (6.1.1)\n",
      "Requirement already satisfied: grpcio>=1.58.0 in c:\\workspace\\americanas\\lambda-azfunction-converter-poc\\.conda\\lib\\site-packages (from chromadb) (1.60.0)\n",
      "Requirement already satisfied: bcrypt>=4.0.1 in c:\\workspace\\americanas\\lambda-azfunction-converter-poc\\.conda\\lib\\site-packages (from chromadb) (4.1.2)\n",
      "Requirement already satisfied: typer>=0.9.0 in c:\\workspace\\americanas\\lambda-azfunction-converter-poc\\.conda\\lib\\site-packages (from chromadb) (0.9.0)\n",
      "Requirement already satisfied: kubernetes>=28.1.0 in c:\\workspace\\americanas\\lambda-azfunction-converter-poc\\.conda\\lib\\site-packages (from chromadb) (28.1.0)\n",
      "Requirement already satisfied: tenacity>=8.2.3 in c:\\workspace\\americanas\\lambda-azfunction-converter-poc\\.conda\\lib\\site-packages (from chromadb) (8.2.3)\n",
      "Requirement already satisfied: PyYAML>=6.0.0 in c:\\workspace\\americanas\\lambda-azfunction-converter-poc\\.conda\\lib\\site-packages (from chromadb) (6.0.1)\n",
      "Requirement already satisfied: mmh3>=4.0.1 in c:\\workspace\\americanas\\lambda-azfunction-converter-poc\\.conda\\lib\\site-packages (from chromadb) (4.0.1)\n",
      "Requirement already satisfied: anyio<4.0.0,>=3.7.1 in c:\\workspace\\americanas\\lambda-azfunction-converter-poc\\.conda\\lib\\site-packages (from fastapi>=0.95.2->chromadb) (3.7.1)\n",
      "Requirement already satisfied: starlette<0.28.0,>=0.27.0 in c:\\workspace\\americanas\\lambda-azfunction-converter-poc\\.conda\\lib\\site-packages (from fastapi>=0.95.2->chromadb) (0.27.0)\n",
      "Requirement already satisfied: certifi>=14.05.14 in c:\\workspace\\americanas\\lambda-azfunction-converter-poc\\.conda\\lib\\site-packages (from kubernetes>=28.1.0->chromadb) (2023.11.17)\n",
      "Requirement already satisfied: six>=1.9.0 in c:\\workspace\\americanas\\lambda-azfunction-converter-poc\\.conda\\lib\\site-packages (from kubernetes>=28.1.0->chromadb) (1.16.0)\n",
      "Requirement already satisfied: python-dateutil>=2.5.3 in c:\\workspace\\americanas\\lambda-azfunction-converter-poc\\.conda\\lib\\site-packages (from kubernetes>=28.1.0->chromadb) (2.8.2)\n",
      "Requirement already satisfied: google-auth>=1.0.1 in c:\\workspace\\americanas\\lambda-azfunction-converter-poc\\.conda\\lib\\site-packages (from kubernetes>=28.1.0->chromadb) (2.25.2)\n",
      "Requirement already satisfied: websocket-client!=0.40.0,!=0.41.*,!=0.42.*,>=0.32.0 in c:\\workspace\\americanas\\lambda-azfunction-converter-poc\\.conda\\lib\\site-packages (from kubernetes>=28.1.0->chromadb) (1.7.0)\n",
      "Requirement already satisfied: requests-oauthlib in c:\\workspace\\americanas\\lambda-azfunction-converter-poc\\.conda\\lib\\site-packages (from kubernetes>=28.1.0->chromadb) (1.3.1)\n",
      "Requirement already satisfied: oauthlib>=3.2.2 in c:\\workspace\\americanas\\lambda-azfunction-converter-poc\\.conda\\lib\\site-packages (from kubernetes>=28.1.0->chromadb) (3.2.2)\n",
      "Requirement already satisfied: urllib3<2.0,>=1.24.2 in c:\\workspace\\americanas\\lambda-azfunction-converter-poc\\.conda\\lib\\site-packages (from kubernetes>=28.1.0->chromadb) (1.26.18)\n",
      "Requirement already satisfied: coloredlogs in c:\\workspace\\americanas\\lambda-azfunction-converter-poc\\.conda\\lib\\site-packages (from onnxruntime>=1.14.1->chromadb) (15.0.1)\n",
      "Requirement already satisfied: flatbuffers in c:\\workspace\\americanas\\lambda-azfunction-converter-poc\\.conda\\lib\\site-packages (from onnxruntime>=1.14.1->chromadb) (23.5.26)\n",
      "Requirement already satisfied: packaging in c:\\workspace\\americanas\\lambda-azfunction-converter-poc\\.conda\\lib\\site-packages (from onnxruntime>=1.14.1->chromadb) (23.2)\n",
      "Requirement already satisfied: protobuf in c:\\workspace\\americanas\\lambda-azfunction-converter-poc\\.conda\\lib\\site-packages (from onnxruntime>=1.14.1->chromadb) (4.25.1)\n",
      "Requirement already satisfied: sympy in c:\\workspace\\americanas\\lambda-azfunction-converter-poc\\.conda\\lib\\site-packages (from onnxruntime>=1.14.1->chromadb) (1.12)\n",
      "Requirement already satisfied: deprecated>=1.2.6 in c:\\workspace\\americanas\\lambda-azfunction-converter-poc\\.conda\\lib\\site-packages (from opentelemetry-api>=1.2.0->chromadb) (1.2.14)\n",
      "Requirement already satisfied: importlib-metadata<7.0,>=6.0 in c:\\workspace\\americanas\\lambda-azfunction-converter-poc\\.conda\\lib\\site-packages (from opentelemetry-api>=1.2.0->chromadb) (6.11.0)\n",
      "Requirement already satisfied: backoff<3.0.0,>=1.10.0 in c:\\workspace\\americanas\\lambda-azfunction-converter-poc\\.conda\\lib\\site-packages (from opentelemetry-exporter-otlp-proto-grpc>=1.2.0->chromadb) (2.2.1)\n",
      "Requirement already satisfied: googleapis-common-protos~=1.52 in c:\\workspace\\americanas\\lambda-azfunction-converter-poc\\.conda\\lib\\site-packages (from opentelemetry-exporter-otlp-proto-grpc>=1.2.0->chromadb) (1.62.0)\n",
      "Requirement already satisfied: opentelemetry-exporter-otlp-proto-common==1.22.0 in c:\\workspace\\americanas\\lambda-azfunction-converter-poc\\.conda\\lib\\site-packages (from opentelemetry-exporter-otlp-proto-grpc>=1.2.0->chromadb) (1.22.0)\n",
      "Requirement already satisfied: opentelemetry-proto==1.22.0 in c:\\workspace\\americanas\\lambda-azfunction-converter-poc\\.conda\\lib\\site-packages (from opentelemetry-exporter-otlp-proto-grpc>=1.2.0->chromadb) (1.22.0)\n",
      "Requirement already satisfied: opentelemetry-instrumentation-asgi==0.43b0 in c:\\workspace\\americanas\\lambda-azfunction-converter-poc\\.conda\\lib\\site-packages (from opentelemetry-instrumentation-fastapi>=0.41b0->chromadb) (0.43b0)\n",
      "Requirement already satisfied: opentelemetry-instrumentation==0.43b0 in c:\\workspace\\americanas\\lambda-azfunction-converter-poc\\.conda\\lib\\site-packages (from opentelemetry-instrumentation-fastapi>=0.41b0->chromadb) (0.43b0)\n",
      "Requirement already satisfied: opentelemetry-semantic-conventions==0.43b0 in c:\\workspace\\americanas\\lambda-azfunction-converter-poc\\.conda\\lib\\site-packages (from opentelemetry-instrumentation-fastapi>=0.41b0->chromadb) (0.43b0)\n",
      "Requirement already satisfied: opentelemetry-util-http==0.43b0 in c:\\workspace\\americanas\\lambda-azfunction-converter-poc\\.conda\\lib\\site-packages (from opentelemetry-instrumentation-fastapi>=0.41b0->chromadb) (0.43b0)\n",
      "Requirement already satisfied: setuptools>=16.0 in c:\\workspace\\americanas\\lambda-azfunction-converter-poc\\.conda\\lib\\site-packages (from opentelemetry-instrumentation==0.43b0->opentelemetry-instrumentation-fastapi>=0.41b0->chromadb) (68.2.2)\n",
      "Requirement already satisfied: wrapt<2.0.0,>=1.0.0 in c:\\workspace\\americanas\\lambda-azfunction-converter-poc\\.conda\\lib\\site-packages (from opentelemetry-instrumentation==0.43b0->opentelemetry-instrumentation-fastapi>=0.41b0->chromadb) (1.16.0)\n",
      "Requirement already satisfied: asgiref~=3.0 in c:\\workspace\\americanas\\lambda-azfunction-converter-poc\\.conda\\lib\\site-packages (from opentelemetry-instrumentation-asgi==0.43b0->opentelemetry-instrumentation-fastapi>=0.41b0->chromadb) (3.7.2)\n",
      "Requirement already satisfied: monotonic>=1.5 in c:\\workspace\\americanas\\lambda-azfunction-converter-poc\\.conda\\lib\\site-packages (from posthog>=2.4.0->chromadb) (1.6)\n",
      "Requirement already satisfied: annotated-types>=0.4.0 in c:\\workspace\\americanas\\lambda-azfunction-converter-poc\\.conda\\lib\\site-packages (from pydantic>=1.9->chromadb) (0.6.0)\n",
      "Requirement already satisfied: pydantic-core==2.14.5 in c:\\workspace\\americanas\\lambda-azfunction-converter-poc\\.conda\\lib\\site-packages (from pydantic>=1.9->chromadb) (2.14.5)\n",
      "Requirement already satisfied: charset-normalizer<4,>=2 in c:\\workspace\\americanas\\lambda-azfunction-converter-poc\\.conda\\lib\\site-packages (from requests>=2.28->chromadb) (3.3.2)\n",
      "Requirement already satisfied: idna<4,>=2.5 in c:\\workspace\\americanas\\lambda-azfunction-converter-poc\\.conda\\lib\\site-packages (from requests>=2.28->chromadb) (3.6)\n",
      "Requirement already satisfied: huggingface_hub<1.0,>=0.16.4 in c:\\workspace\\americanas\\lambda-azfunction-converter-poc\\.conda\\lib\\site-packages (from tokenizers>=0.13.2->chromadb) (0.20.1)\n",
      "Requirement already satisfied: colorama in c:\\workspace\\americanas\\lambda-azfunction-converter-poc\\.conda\\lib\\site-packages (from tqdm>=4.65.0->chromadb) (0.4.6)\n",
      "Requirement already satisfied: click<9.0.0,>=7.1.1 in c:\\workspace\\americanas\\lambda-azfunction-converter-poc\\.conda\\lib\\site-packages (from typer>=0.9.0->chromadb) (8.1.7)\n",
      "Requirement already satisfied: h11>=0.8 in c:\\workspace\\americanas\\lambda-azfunction-converter-poc\\.conda\\lib\\site-packages (from uvicorn>=0.18.3->uvicorn[standard]>=0.18.3->chromadb) (0.14.0)\n",
      "Requirement already satisfied: httptools>=0.5.0 in c:\\workspace\\americanas\\lambda-azfunction-converter-poc\\.conda\\lib\\site-packages (from uvicorn[standard]>=0.18.3->chromadb) (0.6.1)\n",
      "Requirement already satisfied: python-dotenv>=0.13 in c:\\workspace\\americanas\\lambda-azfunction-converter-poc\\.conda\\lib\\site-packages (from uvicorn[standard]>=0.18.3->chromadb) (1.0.0)\n",
      "Requirement already satisfied: watchfiles>=0.13 in c:\\workspace\\americanas\\lambda-azfunction-converter-poc\\.conda\\lib\\site-packages (from uvicorn[standard]>=0.18.3->chromadb) (0.21.0)\n",
      "Requirement already satisfied: websockets>=10.4 in c:\\workspace\\americanas\\lambda-azfunction-converter-poc\\.conda\\lib\\site-packages (from uvicorn[standard]>=0.18.3->chromadb) (12.0)\n",
      "Requirement already satisfied: sniffio>=1.1 in c:\\workspace\\americanas\\lambda-azfunction-converter-poc\\.conda\\lib\\site-packages (from anyio<4.0.0,>=3.7.1->fastapi>=0.95.2->chromadb) (1.3.0)\n",
      "Requirement already satisfied: cachetools<6.0,>=2.0.0 in c:\\workspace\\americanas\\lambda-azfunction-converter-poc\\.conda\\lib\\site-packages (from google-auth>=1.0.1->kubernetes>=28.1.0->chromadb) (5.3.2)\n",
      "Requirement already satisfied: pyasn1-modules>=0.2.1 in c:\\workspace\\americanas\\lambda-azfunction-converter-poc\\.conda\\lib\\site-packages (from google-auth>=1.0.1->kubernetes>=28.1.0->chromadb) (0.3.0)\n",
      "Requirement already satisfied: rsa<5,>=3.1.4 in c:\\workspace\\americanas\\lambda-azfunction-converter-poc\\.conda\\lib\\site-packages (from google-auth>=1.0.1->kubernetes>=28.1.0->chromadb) (4.9)\n",
      "Requirement already satisfied: filelock in c:\\workspace\\americanas\\lambda-azfunction-converter-poc\\.conda\\lib\\site-packages (from huggingface_hub<1.0,>=0.16.4->tokenizers>=0.13.2->chromadb) (3.13.1)\n",
      "Requirement already satisfied: fsspec>=2023.5.0 in c:\\workspace\\americanas\\lambda-azfunction-converter-poc\\.conda\\lib\\site-packages (from huggingface_hub<1.0,>=0.16.4->tokenizers>=0.13.2->chromadb) (2023.12.2)\n",
      "Requirement already satisfied: zipp>=0.5 in c:\\workspace\\americanas\\lambda-azfunction-converter-poc\\.conda\\lib\\site-packages (from importlib-metadata<7.0,>=6.0->opentelemetry-api>=1.2.0->chromadb) (3.17.0)\n",
      "Requirement already satisfied: humanfriendly>=9.1 in c:\\workspace\\americanas\\lambda-azfunction-converter-poc\\.conda\\lib\\site-packages (from coloredlogs->onnxruntime>=1.14.1->chromadb) (10.0)\n",
      "Requirement already satisfied: mpmath>=0.19 in c:\\workspace\\americanas\\lambda-azfunction-converter-poc\\.conda\\lib\\site-packages (from sympy->onnxruntime>=1.14.1->chromadb) (1.3.0)\n",
      "Requirement already satisfied: pyreadline3 in c:\\workspace\\americanas\\lambda-azfunction-converter-poc\\.conda\\lib\\site-packages (from humanfriendly>=9.1->coloredlogs->onnxruntime>=1.14.1->chromadb) (3.4.1)\n",
      "Requirement already satisfied: pyasn1<0.6.0,>=0.4.6 in c:\\workspace\\americanas\\lambda-azfunction-converter-poc\\.conda\\lib\\site-packages (from pyasn1-modules>=0.2.1->google-auth>=1.0.1->kubernetes>=28.1.0->chromadb) (0.5.1)\n",
      "Note: you may need to restart the kernel to use updated packages.\n",
      "Requirement already satisfied: tiktoken in c:\\workspace\\americanas\\lambda-azfunction-converter-poc\\.conda\\lib\\site-packages (0.5.2)\n",
      "Requirement already satisfied: regex>=2022.1.18 in c:\\workspace\\americanas\\lambda-azfunction-converter-poc\\.conda\\lib\\site-packages (from tiktoken) (2023.10.3)\n",
      "Requirement already satisfied: requests>=2.26.0 in c:\\workspace\\americanas\\lambda-azfunction-converter-poc\\.conda\\lib\\site-packages (from tiktoken) (2.31.0)\n",
      "Requirement already satisfied: charset-normalizer<4,>=2 in c:\\workspace\\americanas\\lambda-azfunction-converter-poc\\.conda\\lib\\site-packages (from requests>=2.26.0->tiktoken) (3.3.2)\n",
      "Requirement already satisfied: idna<4,>=2.5 in c:\\workspace\\americanas\\lambda-azfunction-converter-poc\\.conda\\lib\\site-packages (from requests>=2.26.0->tiktoken) (3.6)\n",
      "Requirement already satisfied: urllib3<3,>=1.21.1 in c:\\workspace\\americanas\\lambda-azfunction-converter-poc\\.conda\\lib\\site-packages (from requests>=2.26.0->tiktoken) (1.26.18)\n",
      "Requirement already satisfied: certifi>=2017.4.17 in c:\\workspace\\americanas\\lambda-azfunction-converter-poc\\.conda\\lib\\site-packages (from requests>=2.26.0->tiktoken) (2023.11.17)\n",
      "Note: you may need to restart the kernel to use updated packages.\n",
      "Requirement already satisfied: python-dotenv in c:\\workspace\\americanas\\lambda-azfunction-converter-poc\\.conda\\lib\\site-packages (1.0.0)\n",
      "Note: you may need to restart the kernel to use updated packages.\n"
     ]
    }
   ],
   "source": [
    "%pip install langchain\n",
    "%pip install openai\n",
    "%pip install chromadb\n",
    "%pip install tiktoken\n",
    "%pip install python-dotenv"
   ]
  },
  {
   "cell_type": "markdown",
   "id": "9e6cc16f",
   "metadata": {},
   "source": [
    "### Setup\n",
    "\n",
    "Import the libraries and environment variables to gain access to the `Open API Key`"
   ]
  },
  {
   "cell_type": "code",
   "execution_count": 54,
   "id": "fd8d1ec2",
   "metadata": {},
   "outputs": [
    {
     "name": "stdout",
     "output_type": "stream",
     "text": [
      "https://devsquad-eastus-2.openai.azure.com/\n"
     ]
    }
   ],
   "source": [
    "import os\n",
    "from langchain.prompts.example_selector import SemanticSimilarityExampleSelector\n",
    "from langchain.vectorstores import Chroma\n",
    "from langchain.embeddings import AzureOpenAIEmbeddings\n",
    "from langchain.prompts import FewShotChatMessagePromptTemplate, ChatPromptTemplate\n",
    "from langchain.chat_models import AzureChatOpenAI\n",
    "from langchain.chains import ConversationChain\n",
    "\n",
    "from dotenv import load_dotenv, find_dotenv\n",
    "_ = load_dotenv(find_dotenv()) # read local .env file\n",
    "\n",
    "api_key=os.environ['OPENAI_API_KEY']\n",
    "base_url=os.environ['OPENAI_BASE_URL']\n",
    "api_version=os.environ['OPENAI_API_VERSION']\n",
    "\n",
    "print(base_url)"
   ]
  },
  {
   "cell_type": "markdown",
   "id": "9d3964d6",
   "metadata": {},
   "source": [
    "Let's create the llm client, we can use a chat llm from langchain"
   ]
  },
  {
   "cell_type": "code",
   "execution_count": 55,
   "id": "0af16d2f",
   "metadata": {},
   "outputs": [],
   "source": [
    "llm = AzureChatOpenAI(\n",
    "    api_key=api_key,\n",
    "    azure_endpoint=base_url, \n",
    "    api_version=api_version,\n",
    "    model=\"gpt-4\",\n",
    "    temperature=0\n",
    ")"
   ]
  },
  {
   "cell_type": "markdown",
   "id": "0a7716a5",
   "metadata": {},
   "source": [
    "#### Create embeddings of your documents to get ready for semantic search\n",
    "\n",
    "We are going to get our embeddings engine ready. This will be the engine that will turn out documents into vector embeddings so we can easily do semantic search on them."
   ]
  },
  {
   "cell_type": "code",
   "execution_count": 56,
   "id": "b9c13770",
   "metadata": {},
   "outputs": [],
   "source": [
    "embeddings = AzureOpenAIEmbeddings(\n",
    "    api_key=api_key,\n",
    "    azure_endpoint=base_url, \n",
    "    api_version=api_version,\n",
    "    azure_deployment=\"text-embedding-ada-002\"\n",
    ")"
   ]
  },
  {
   "cell_type": "code",
   "execution_count": 57,
   "id": "b954ee49",
   "metadata": {},
   "outputs": [
    {
     "data": {
      "text/plain": [
       "[-0.012222584727053142, 0.007210398239221619, -0.014818063280923785]"
      ]
     },
     "execution_count": 57,
     "metadata": {},
     "output_type": "execute_result"
    }
   ],
   "source": [
    "text = \"this is a test document\"\n",
    "query_result = embeddings.embed_query(text)\n",
    "doc_result = embeddings.embed_documents([text])\n",
    "doc_result[0][:3]"
   ]
  },
  {
   "cell_type": "markdown",
   "id": "bbee06e5",
   "metadata": {},
   "source": [
    "### Create the example set\n",
    "To get started, create a list of few-shot examples. Each example should be a dictionary with the keys being the input variables and the values being the values for those input variables."
   ]
  },
  {
   "cell_type": "markdown",
   "id": "42c74592",
   "metadata": {},
   "source": [
    "**Note:** An improvement could be to add metadata to the examples to help recognize the most similar ones"
   ]
  },
  {
   "cell_type": "markdown",
   "id": "0a71c131",
   "metadata": {},
   "source": [
    "Let's start by getting a list of paths with the examples"
   ]
  },
  {
   "cell_type": "code",
   "execution_count": 58,
   "id": "f10c8f72",
   "metadata": {},
   "outputs": [],
   "source": [
    "def list_files_in_folders(path):\n",
    "    return os.listdir(path)\n",
    "\n",
    "def read_file(file_path):\n",
    "    with open(file_path, 'r') as file:\n",
    "        content = file.read()\n",
    "    return content"
   ]
  },
  {
   "cell_type": "code",
   "execution_count": 59,
   "id": "f7dfc802",
   "metadata": {},
   "outputs": [
    {
     "name": "stdout",
     "output_type": "stream",
     "text": [
      "['basic-conversion-1', 'basic-conversion-2', 'basic-conversion-3', 'basic-conversion-4', 'basic-conversion-5', 's3-conversion-1']\n"
     ]
    }
   ],
   "source": [
    "basePath = \"../go-examples/examples/gin/\"\n",
    "pathList = list_files_in_folders(basePath)\n",
    "print(pathList)"
   ]
  },
  {
   "cell_type": "code",
   "execution_count": 60,
   "id": "ce7c11e5",
   "metadata": {},
   "outputs": [],
   "source": [
    "examples = []\n",
    "\n",
    "for path in pathList:\n",
    "    input = read_file(basePath + path + \"/input/main.go\")\n",
    "    output = read_file(basePath + path + \"/output/main.go\")\n",
    "    exampleName = path\n",
    "    example = {\n",
    "        \"input\": input, \n",
    "        \"output\": output,\n",
    "        # \"metadata\": {\"name\": exampleName, \"language\": \"go\"}\n",
    "    }\n",
    "    examples.append(example)"
   ]
  },
  {
   "cell_type": "markdown",
   "id": "26557a88",
   "metadata": {},
   "source": [
    "Checkout one example and see if it's good"
   ]
  },
  {
   "cell_type": "code",
   "execution_count": 61,
   "id": "ea2139d1",
   "metadata": {},
   "outputs": [
    {
     "name": "stdout",
     "output_type": "stream",
     "text": [
      "{'input': 'package main\\n\\nimport (\\n\\t\"context\"\\n\\t\"fmt\"\\n\\n\\t\"github.com/aws/aws-lambda-go/lambda\"\\n)\\n\\ntype MyEvent struct {\\n\\tName string `json:\"name\"`\\n}\\n\\ntype MyResponse struct {\\n\\tMessage string `json:\"message\"`\\n}\\n\\nfunc HandleRequest(ctx context.Context, event *MyEvent) (*MyResponse, error) {\\n\\tif event == nil {\\n\\t\\treturn nil, fmt.Errorf(\"received nil event\")\\n\\t}\\n\\tmessage := fmt.Sprintf(\"Hello %s!\", event.Name)\\n\\treturn &MyResponse{Message: message}, nil\\n}\\n\\nfunc main() {\\n\\tlambda.Start(HandleRequest)\\n}\\n', 'output': 'package main\\n\\nimport (\\n\\t\"fmt\"\\n\\t\"log\"\\n\\t\"net/http\"\\n\\t\"os\"\\n\\n\\t\"github.com/gin-gonic/gin\"\\n)\\n\\nconst (\\n\\tEnvVarAzureFunctionPort = \"FUNCTIONS_PORT\"\\n)\\n\\ntype MyEvent struct {\\n\\tName string `json:\"name\"`\\n}\\n\\ntype MyResponse struct {\\n\\tMessage string `json:\"message\"`\\n}\\n\\nfunc HandleRequest(ctx *gin.Context)  {\\n\\tif ctx.Request.Body == nil {\\n\\t\\terrorMsg := \"received nil event\"\\n\\t\\tctx.JSON(http.StatusBadRequest, gin.H{\"error\": errorMsg})\\n\\t\\treturn \\n\\t}\\n\\n\\tvar event MyEvent\\n\\terr := ctx.Bind(&event)\\n\\tif err != nil {\\n\\t\\terrorMsg := fmt.Sprintf(\"error on reading request body: %v\\\\n\", err.Error())\\n\\t\\tctx.JSON(http.StatusBadRequest, gin.H{\"error\": errorMsg})\\n\\t\\treturn\\n\\t}\\n\\n\\tmessage := fmt.Sprintf(\"Hello %s!\", event.Name)\\n\\tctx.JSON(http.StatusOK, &MyResponse{Message: message})\\n}\\n\\nfunc main() {\\n\\tr := gin.Default()\\n\\tr.Handle(http.MethodPost, \"/HandleRequest\", HandleRequest)\\n\\n\\tport := os.Getenv(EnvVarAzureFunctionPort)\\n\\tif port == \"\" {\\n\\t\\tport = \"8080\"\\n\\t}\\n\\thost := fmt.Sprintf(\"0.0.0.0:%s\", port)\\n\\tfmt.Printf(\"Go server Listening...on port: %s\\\\n\", port)\\n\\tlog.Fatal(r.Run(host))\\n}\\n'}\n"
     ]
    }
   ],
   "source": [
    "print(examples[0])"
   ]
  },
  {
   "cell_type": "markdown",
   "id": "305348e4",
   "metadata": {},
   "source": [
    "### Test input\n",
    "\n",
    "Let's define the target input that we'll use to select the examples and finally to run our query"
   ]
  },
  {
   "cell_type": "code",
   "execution_count": 62,
   "id": "f7db03dd",
   "metadata": {},
   "outputs": [],
   "source": [
    "input = read_file(\"../go-examplesexamples/test-inputs/basic-input-1/main.go\")"
   ]
  },
  {
   "cell_type": "markdown",
   "id": "0dc12f7b",
   "metadata": {},
   "source": [
    "### Using Advanced Chain-of-Thought (CoT) Prompt\n",
    "\n",
    "Add a system input that explains the steps the LLM needs to follow"
   ]
  },
  {
   "cell_type": "code",
   "execution_count": 63,
   "id": "71a93ea2",
   "metadata": {},
   "outputs": [],
   "source": [
    "system_input = '''You are an azure assistant that converts aws lambda code into azure functions. \n",
    "    You do it by using the following steps:\n",
    "    \n",
    "    1. Determine if the code corresponds to a lambda function, by checking its imports\n",
    "    2. If it isn't a lambda function, return it as is\n",
    "    3. If it is a lambda function then convert the file to an azure function\n",
    "   \n",
    "   Return the resultant code, and only code do not add any explanation.\n",
    "   \n",
    "   If you don't know the answer return the original code with the following comment: \n",
    "   `// Could not convert the code, please check the class`, followed by a commented explanation of what happened.\n",
    "   '''"
   ]
  },
  {
   "cell_type": "markdown",
   "id": "6d55cb5e",
   "metadata": {},
   "source": [
    "### Using an example selector\n",
    "\n",
    "We will reuse the example set and the formatter from the previous section. However, instead of feeding the examples directly into the `FewShotPromptTemplate` object, we will feed them into an `ExampleSelector` object.\n",
    "\n",
    "In this tutorial, we will use the `SemanticSimilarityExampleSelector` class. This class selects few-shot examples based on their similarity to the input. It uses an embedding model to compute the similarity between the input and the few-shot examples, as well as a vector store to perform the nearest neighbor search."
   ]
  },
  {
   "cell_type": "code",
   "execution_count": 64,
   "id": "9ec774f4",
   "metadata": {},
   "outputs": [],
   "source": [
    "# metadatas = [example[\"metadata\"] for example in examples]\n",
    "to_vectorize = [\" \".join(example.values()) for example in examples]\n",
    "vectorstore = Chroma.from_texts(to_vectorize, embeddings, metadatas=examples)"
   ]
  },
  {
   "cell_type": "code",
   "execution_count": 65,
   "id": "105eb45c",
   "metadata": {},
   "outputs": [
    {
     "data": {
      "text/plain": [
       "[{'input': 'package main\\n\\nimport (\\n\\t\"context\"\\n\\t\"fmt\"\\n\\t\"github.com/aws/aws-lambda-go/lambda\"\\n)\\n\\ntype MyEvent struct {\\n\\tName string `json:\"name\"`\\n}\\n\\ntype MyResponse struct {\\n\\tMessage string `json:\"message\"`\\n}\\n\\nfunc HandleRequest(ctx context.Context, event *MyEvent) (*MyResponse, error) {\\n\\tif event == nil {\\n\\t\\treturn nil, fmt.Errorf(\"received nil event\")\\n\\t}\\n\\tmessage := fmt.Sprintf(\"Hello %s!\", event.Name)\\n\\treturn &MyResponse{Message: message}, nil\\n}\\n\\nfunc main() {\\n\\tlambda.Start(HandleRequest)\\n}\\n',\n",
       "  'output': 'package main\\n\\nimport (\\n\\t\"fmt\"\\n\\t\"log\"\\n\\t\"net/http\"\\n\\t\"os\"\\n\\n\\t\"github.com/gin-gonic/gin\"\\n)\\n\\nconst (\\n\\tEnvVarAzureFunctionPort = \"FUNCTIONS_PORT\"\\n)\\n\\ntype MyEvent struct {\\n\\tName string `json:\"name\"`\\n}\\n\\ntype MyResponse struct {\\n\\tMessage string `json:\"message\"`\\n}\\n\\nfunc HandleRequest(ctx *gin.Context)  {\\n\\tif ctx.Request.Body == nil {\\n\\t\\terrorMsg := \"received nil event\"\\n\\t\\tctx.JSON(http.StatusBadRequest, gin.H{\"error\": errorMsg})\\n\\t\\treturn \\n\\t}\\n\\n\\tvar event MyEvent\\n\\terr := ctx.Bind(&event)\\n\\tif err != nil {\\n\\t\\terrorMsg := fmt.Sprintf(\"error on reading request body: %v\\\\n\", err.Error())\\n\\t\\tctx.JSON(http.StatusBadRequest, gin.H{\"error\": errorMsg})\\n\\t\\treturn\\n\\t}\\n\\n\\tmessage := fmt.Sprintf(\"Hello %s!\", event.Name)\\n\\tctx.JSON(http.StatusOK, &MyResponse{Message: message})\\n}\\n\\nfunc main() {\\n\\tr := gin.Default()\\n\\tr.Handle(http.MethodPost, \"/HandleRequest\", HandleRequest)\\n\\n\\tport := os.Getenv(EnvVarAzureFunctionPort)\\n\\tif port == \"\" {\\n\\t\\tport = \"8080\"\\n\\t}\\n\\thost := fmt.Sprintf(\"0.0.0.0:%s\", port)\\n\\tfmt.Printf(\"Go server Listening...on port: %s\\\\n\", port)\\n\\tlog.Fatal(r.Run(host))\\n}\\n'}]"
      ]
     },
     "execution_count": 65,
     "metadata": {},
     "output_type": "execute_result"
    }
   ],
   "source": [
    "example_selector = SemanticSimilarityExampleSelector(\n",
    "    vectorstore=vectorstore,\n",
    "    k=1,\n",
    ")\n",
    "\n",
    "# The prompt template will load examples by passing the input do the `select_examples` method\n",
    "example_selector.select_examples({\"input\": input})"
   ]
  },
  {
   "cell_type": "markdown",
   "id": "f9c5d78d",
   "metadata": {},
   "source": [
    "### Create a formatter for the few-shot examples\n",
    "Configure a formatter that will format the few-shot examples into a string. This formatter should be a `FewShotChatMessagePromptTemplate` object."
   ]
  },
  {
   "cell_type": "code",
   "execution_count": 66,
   "id": "8b1656af",
   "metadata": {},
   "outputs": [],
   "source": [
    "# Define the few-shot prompt.\n",
    "few_shot_prompt = FewShotChatMessagePromptTemplate(\n",
    "    # The input variables select the values to pass to the example_selector\n",
    "    input_variables=[\"input\"],\n",
    "    example_selector=example_selector,\n",
    "    # Define how each example will be formatted.\n",
    "    # In this case, each example will become 2 messages:\n",
    "    # 1 human, and 1 AI\n",
    "    example_prompt=ChatPromptTemplate.from_messages(\n",
    "        [(\"human\", \"{input}\"), (\"ai\", \"{output}\")]\n",
    "    ),\n",
    ")"
   ]
  },
  {
   "cell_type": "code",
   "execution_count": 67,
   "id": "f04a294d",
   "metadata": {},
   "outputs": [
    {
     "name": "stdout",
     "output_type": "stream",
     "text": [
      "Human: package main\n",
      "\n",
      "import (\n",
      "\t\"context\"\n",
      "\t\"fmt\"\n",
      "\t\"github.com/aws/aws-lambda-go/lambda\"\n",
      ")\n",
      "\n",
      "type MyEvent struct {\n",
      "\tName string `json:\"name\"`\n",
      "}\n",
      "\n",
      "type MyResponse struct {\n",
      "\tMessage string `json:\"message\"`\n",
      "}\n",
      "\n",
      "func HandleRequest(ctx context.Context, event *MyEvent) (*MyResponse, error) {\n",
      "\tif event == nil {\n",
      "\t\treturn nil, fmt.Errorf(\"received nil event\")\n",
      "\t}\n",
      "\tmessage := fmt.Sprintf(\"Hello %s!\", event.Name)\n",
      "\treturn &MyResponse{Message: message}, nil\n",
      "}\n",
      "\n",
      "func main() {\n",
      "\tlambda.Start(HandleRequest)\n",
      "}\n",
      "\n",
      "AI: package main\n",
      "\n",
      "import (\n",
      "\t\"fmt\"\n",
      "\t\"log\"\n",
      "\t\"net/http\"\n",
      "\t\"os\"\n",
      "\n",
      "\t\"github.com/gin-gonic/gin\"\n",
      ")\n",
      "\n",
      "const (\n",
      "\tEnvVarAzureFunctionPort = \"FUNCTIONS_PORT\"\n",
      ")\n",
      "\n",
      "type MyEvent struct {\n",
      "\tName string `json:\"name\"`\n",
      "}\n",
      "\n",
      "type MyResponse struct {\n",
      "\tMessage string `json:\"message\"`\n",
      "}\n",
      "\n",
      "func HandleRequest(ctx *gin.Context)  {\n",
      "\tif ctx.Request.Body == nil {\n",
      "\t\terrorMsg := \"received nil event\"\n",
      "\t\tctx.JSON(http.StatusBadRequest, gin.H{\"error\": errorMsg})\n",
      "\t\treturn \n",
      "\t}\n",
      "\n",
      "\tvar event MyEvent\n",
      "\terr := ctx.Bind(&event)\n",
      "\tif err != nil {\n",
      "\t\terrorMsg := fmt.Sprintf(\"error on reading request body: %v\\n\", err.Error())\n",
      "\t\tctx.JSON(http.StatusBadRequest, gin.H{\"error\": errorMsg})\n",
      "\t\treturn\n",
      "\t}\n",
      "\n",
      "\tmessage := fmt.Sprintf(\"Hello %s!\", event.Name)\n",
      "\tctx.JSON(http.StatusOK, &MyResponse{Message: message})\n",
      "}\n",
      "\n",
      "func main() {\n",
      "\tr := gin.Default()\n",
      "\tr.Handle(http.MethodPost, \"/HandleRequest\", HandleRequest)\n",
      "\n",
      "\tport := os.Getenv(EnvVarAzureFunctionPort)\n",
      "\tif port == \"\" {\n",
      "\t\tport = \"8080\"\n",
      "\t}\n",
      "\thost := fmt.Sprintf(\"0.0.0.0:%s\", port)\n",
      "\tfmt.Printf(\"Go server Listening...on port: %s\\n\", port)\n",
      "\tlog.Fatal(r.Run(host))\n",
      "}\n",
      "\n"
     ]
    }
   ],
   "source": [
    "print(few_shot_prompt.format(input=input))"
   ]
  },
  {
   "cell_type": "code",
   "execution_count": 68,
   "id": "bcc77401",
   "metadata": {},
   "outputs": [],
   "source": [
    "final_prompt = ChatPromptTemplate.from_messages(\n",
    "    [\n",
    "        (\"system\", system_input),\n",
    "        few_shot_prompt,\n",
    "        (\"human\", \"{input}\"),\n",
    "    ]\n",
    ")"
   ]
  },
  {
   "cell_type": "code",
   "execution_count": 69,
   "id": "6d1fc79a",
   "metadata": {},
   "outputs": [
    {
     "name": "stdout",
     "output_type": "stream",
     "text": [
      "System: You are an azure assistant that converts aws lambda code into azure functions. \n",
      "    You do it by using the following steps:\n",
      "    \n",
      "    1. Determine if the code corresponds to a lambda function, by checking its imports\n",
      "    2. If it isn't a lambda function, return it as is\n",
      "    3. If it is a lambda function then convert the file to an azure function\n",
      "   \n",
      "   Return the resultant code, and only code do not add any explanation.\n",
      "   \n",
      "   If you don't know the answer return the original code with the following comment: \n",
      "   `// Could not convert the code, please check the class`, followed by a commented explanation of what happened.\n",
      "   \n",
      "Human: package main\n",
      "\n",
      "import (\n",
      "\t\"context\"\n",
      "\t\"fmt\"\n",
      "\t\"github.com/aws/aws-lambda-go/lambda\"\n",
      ")\n",
      "\n",
      "type MyEvent struct {\n",
      "\tName string `json:\"name\"`\n",
      "}\n",
      "\n",
      "type MyResponse struct {\n",
      "\tMessage string `json:\"message\"`\n",
      "}\n",
      "\n",
      "func HandleRequest(ctx context.Context, event *MyEvent) (*MyResponse, error) {\n",
      "\tif event == nil {\n",
      "\t\treturn nil, fmt.Errorf(\"received nil event\")\n",
      "\t}\n",
      "\tmessage := fmt.Sprintf(\"Hello %s!\", event.Name)\n",
      "\treturn &MyResponse{Message: message}, nil\n",
      "}\n",
      "\n",
      "func main() {\n",
      "\tlambda.Start(HandleRequest)\n",
      "}\n",
      "\n",
      "AI: package main\n",
      "\n",
      "import (\n",
      "\t\"fmt\"\n",
      "\t\"log\"\n",
      "\t\"net/http\"\n",
      "\t\"os\"\n",
      "\n",
      "\t\"github.com/gin-gonic/gin\"\n",
      ")\n",
      "\n",
      "const (\n",
      "\tEnvVarAzureFunctionPort = \"FUNCTIONS_PORT\"\n",
      ")\n",
      "\n",
      "type MyEvent struct {\n",
      "\tName string `json:\"name\"`\n",
      "}\n",
      "\n",
      "type MyResponse struct {\n",
      "\tMessage string `json:\"message\"`\n",
      "}\n",
      "\n",
      "func HandleRequest(ctx *gin.Context)  {\n",
      "\tif ctx.Request.Body == nil {\n",
      "\t\terrorMsg := \"received nil event\"\n",
      "\t\tctx.JSON(http.StatusBadRequest, gin.H{\"error\": errorMsg})\n",
      "\t\treturn \n",
      "\t}\n",
      "\n",
      "\tvar event MyEvent\n",
      "\terr := ctx.Bind(&event)\n",
      "\tif err != nil {\n",
      "\t\terrorMsg := fmt.Sprintf(\"error on reading request body: %v\\n\", err.Error())\n",
      "\t\tctx.JSON(http.StatusBadRequest, gin.H{\"error\": errorMsg})\n",
      "\t\treturn\n",
      "\t}\n",
      "\n",
      "\tmessage := fmt.Sprintf(\"Hello %s!\", event.Name)\n",
      "\tctx.JSON(http.StatusOK, &MyResponse{Message: message})\n",
      "}\n",
      "\n",
      "func main() {\n",
      "\tr := gin.Default()\n",
      "\tr.Handle(http.MethodPost, \"/HandleRequest\", HandleRequest)\n",
      "\n",
      "\tport := os.Getenv(EnvVarAzureFunctionPort)\n",
      "\tif port == \"\" {\n",
      "\t\tport = \"8080\"\n",
      "\t}\n",
      "\thost := fmt.Sprintf(\"0.0.0.0:%s\", port)\n",
      "\tfmt.Printf(\"Go server Listening...on port: %s\\n\", port)\n",
      "\tlog.Fatal(r.Run(host))\n",
      "}\n",
      "\n",
      "Human: package main\n",
      "\n",
      "import (\n",
      "\t\"context\"\n",
      "\t\"fmt\"\n",
      "\t\"github.com/aws/aws-lambda-go/lambda\"\n",
      "\t\"github.com/msft-latam-devsquad/lambda-to-azure-converter/examples/storage\"\n",
      ")\n",
      "\n",
      "type SaveRequest struct {\n",
      "\tId string `json:\"id\"`\n",
      "}\n",
      "\n",
      "type Response struct {\n",
      "\tMessage string `json:\"message\"`\n",
      "}\n",
      "\n",
      "func HandleRequest(ctx context.Context, req *SaveRequest) (*Response, error) {\n",
      "\tif req == nil {\n",
      "\t\treturn nil, fmt.Errorf(\"request can't be nil\")\n",
      "\t}\n",
      "\t\n",
      "\tazStore := storage.NewAzureStorage()\n",
      "\terr := azStore.Save(ctx, req.Id)\n",
      "\tif err != nil {\n",
      "\t\treturn nil, err\n",
      "\t}\n",
      "\n",
      "\tmessage := fmt.Sprintf(\"request %s was successfully saved\", req.Id)\n",
      "\treturn &Response{Message: message}, nil\n",
      "}\n",
      "\n",
      "func main() {\n",
      "\tlambda.Start(HandleRequest)\n",
      "}\n"
     ]
    }
   ],
   "source": [
    "print(final_prompt.format(input=input))"
   ]
  },
  {
   "cell_type": "markdown",
   "id": "b66abf00",
   "metadata": {},
   "source": [
    "### Use with an LLM\n",
    "Now, you can connect your model to the few-shot prompt."
   ]
  },
  {
   "cell_type": "code",
   "execution_count": null,
   "id": "ec6fb91c",
   "metadata": {},
   "outputs": [],
   "source": [
    "conversation = ConversationChain(llm=llm)\n",
    "\n",
    "result = conversation.run(final_prompt.format_messages(input=input))"
   ]
  },
  {
   "cell_type": "code",
   "execution_count": null,
   "id": "4201fad5",
   "metadata": {},
   "outputs": [],
   "source": [
    "print(result)"
   ]
  },
  {
   "cell_type": "markdown",
   "id": "97621902",
   "metadata": {},
   "source": [
    "### Check if compiles \n",
    "\n",
    "The idea would be to compile the classes and if it doesn't compile tell the LLM the issue and retry.\n",
    "\n",
    "The result doesn't seem to compile let's ask the LLM again."
   ]
  },
  {
   "cell_type": "code",
   "execution_count": null,
   "id": "f7522456",
   "metadata": {},
   "outputs": [],
   "source": [
    "conversation.run(\"the code doesn't compile\")"
   ]
  },
  {
   "cell_type": "markdown",
   "id": "efefb22c",
   "metadata": {},
   "source": [
    "### Let's try with format instructions\n",
    "\n",
    "It's possible to tell our LLM how we expect to get our response back using output parsers, let's try it out"
   ]
  },
  {
   "cell_type": "code",
   "execution_count": null,
   "id": "b31165df",
   "metadata": {},
   "outputs": [],
   "source": []
  },
  {
   "cell_type": "markdown",
   "id": "a2f732a0",
   "metadata": {},
   "source": [
    "### Testing more inputs\n",
    "\n",
    "Try again using new inputs"
   ]
  },
  {
   "cell_type": "code",
   "execution_count": null,
   "id": "0822d811",
   "metadata": {},
   "outputs": [],
   "source": [
    "lambda_code_1 = '''\n",
    "package main\n",
    "\n",
    "import (\n",
    "\t\"context\"\n",
    "\t\"encoding/json\"\n",
    "\t\"github.com/aws/aws-lambda-go/events\"\n",
    "\truntime \"github.com/aws/aws-lambda-go/lambda\"\n",
    "\t\"github.com/aws/aws-lambda-go/lambdacontext\"\n",
    "\t\"github.com/aws/aws-sdk-go/aws/session\"\n",
    "\t\"github.com/aws/aws-sdk-go/service/lambda\"\n",
    "\t\"log\"\n",
    "\t\"os\"\n",
    ")\n",
    "\n",
    "var client = lambda.New(session.New())\n",
    "\n",
    "func callLambda() (string, error) {\n",
    "\tinput := &lambda.GetAccountSettingsInput{}\n",
    "\treq, resp := client.GetAccountSettingsRequest(input)\n",
    "\terr := req.Send()\n",
    "\toutput, _ := json.Marshal(resp.AccountUsage)\n",
    "\treturn string(output), err\n",
    "}\n",
    "\n",
    "func handleRequest(ctx context.Context, event events.SQSEvent) (string, error) {\n",
    "\t// event\n",
    "\teventJson, _ := json.MarshalIndent(event, \"\", \"  \")\n",
    "\tlog.Printf(\"EVENT: %s\", eventJson)\n",
    "\t// environment variables\n",
    "\tlog.Printf(\"REGION: %s\", os.Getenv(\"AWS_REGION\"))\n",
    "\tlog.Println(\"ALL ENV VARS:\")\n",
    "\tfor _, element := range os.Environ() {\n",
    "\t\tlog.Println(element)\n",
    "\t}\n",
    "\t// request context\n",
    "\tlc, _ := lambdacontext.FromContext(ctx)\n",
    "\tlog.Printf(\"REQUEST ID: %s\", lc.AwsRequestID)\n",
    "\t// global variable\n",
    "\tlog.Printf(\"FUNCTION NAME: %s\", lambdacontext.FunctionName)\n",
    "\t// context method\n",
    "\tdeadline, _ := ctx.Deadline()\n",
    "\tlog.Printf(\"DEADLINE: %s\", deadline)\n",
    "\t// AWS SDK call\n",
    "\tusage, err := callLambda()\n",
    "\tif err != nil {\n",
    "\t\treturn \"ERROR\", err\n",
    "\t}\n",
    "\treturn usage, nil\n",
    "}\n",
    "\n",
    "func main() {\n",
    "\truntime.Start(handleRequest)\n",
    "}\n",
    "'''"
   ]
  },
  {
   "cell_type": "code",
   "execution_count": null,
   "id": "2187c66b",
   "metadata": {},
   "outputs": [],
   "source": [
    "conversation = ConversationChain(llm=llm)\n",
    "\n",
    "result = conversation.run(final_prompt.format_messages(input=lambda_code_1))"
   ]
  },
  {
   "cell_type": "code",
   "execution_count": null,
   "id": "e1315319",
   "metadata": {},
   "outputs": [],
   "source": [
    "print(result)"
   ]
  }
 ],
 "metadata": {
  "kernelspec": {
   "display_name": "Python 3 (ipykernel)",
   "language": "python",
   "name": "python3"
  },
  "language_info": {
   "codemirror_mode": {
    "name": "ipython",
    "version": 3
   },
   "file_extension": ".py",
   "mimetype": "text/x-python",
   "name": "python",
   "nbconvert_exporter": "python",
   "pygments_lexer": "ipython3",
   "version": "3.11.5"
  }
 },
 "nbformat": 4,
 "nbformat_minor": 5
}
