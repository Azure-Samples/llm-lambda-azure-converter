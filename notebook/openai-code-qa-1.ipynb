{
 "cells": [
  {
   "cell_type": "markdown",
   "id": "432ba143",
   "metadata": {},
   "source": [
    "# OpenAI tests for lambda - azure function converter\n",
    "\n",
    "## Testing RAG over Code\n",
    "\n",
    "In this Notebook we'll follow the instructions from the langchain website for RAG with code [here](https://python.langchain.com/docs/use_cases/question_answering/code_understanding)"
   ]
  },
  {
   "cell_type": "markdown",
   "id": "b4caffe1",
   "metadata": {},
   "source": [
    "### Install the necessary libraries"
   ]
  },
  {
   "cell_type": "code",
   "execution_count": null,
   "id": "bc936208",
   "metadata": {},
   "outputs": [],
   "source": [
    "pip install langchain"
   ]
  },
  {
   "cell_type": "code",
   "execution_count": null,
   "id": "509b1e08",
   "metadata": {},
   "outputs": [],
   "source": [
    "pip install openai"
   ]
  },
  {
   "cell_type": "code",
   "execution_count": null,
   "id": "fc97f3ef",
   "metadata": {},
   "outputs": [],
   "source": [
    "pip install chromadb"
   ]
  },
  {
   "cell_type": "code",
   "execution_count": null,
   "id": "5584c760",
   "metadata": {},
   "outputs": [],
   "source": [
    "pip install tiktoken"
   ]
  },
  {
   "cell_type": "code",
   "execution_count": null,
   "id": "f1621606",
   "metadata": {},
   "outputs": [],
   "source": [
    "pip install python-dotenv"
   ]
  },
  {
   "cell_type": "markdown",
   "id": "9e6cc16f",
   "metadata": {},
   "source": [
    "### Setup\n",
    "\n",
    "Import the libraries and environment variables to gain access to the `Open API Key`"
   ]
  },
  {
   "cell_type": "code",
   "execution_count": 1,
   "id": "fd8d1ec2",
   "metadata": {},
   "outputs": [
    {
     "name": "stdout",
     "output_type": "stream",
     "text": [
      "https://devsquad-eastus-2.openai.azure.com/\n"
     ]
    }
   ],
   "source": [
    "from langchain.document_loaders.generic import GenericLoader\n",
    "from langchain.document_loaders.parsers import LanguageParser\n",
    "from langchain.text_splitter import Language\n",
    "\n",
    "import os\n",
    "from dotenv import load_dotenv, find_dotenv\n",
    "_ = load_dotenv(find_dotenv()) # read local .env file\n",
    "\n",
    "api_key=os.environ['OPENAI_API_KEY']\n",
    "base_url=os.environ['OPENAI_BASE_URL']\n",
    "\n",
    "print(base_url)"
   ]
  },
  {
   "cell_type": "markdown",
   "id": "9d3964d6",
   "metadata": {},
   "source": [
    "### Loading the code\n",
    "\n",
    "We will upload all the go project files using the `langchain.document_loaders.TextLoader`. Let's define the target path with the code we want to use for RAG. "
   ]
  },
  {
   "cell_type": "code",
   "execution_count": 4,
   "id": "0af16d2f",
   "metadata": {},
   "outputs": [],
   "source": [
    "repo_path = \"../app/\""
   ]
  },
  {
   "cell_type": "markdown",
   "id": "0a7716a5",
   "metadata": {},
   "source": [
    "We load the go code using `LanguageParser`, which will:\n",
    "\n",
    "- Keep top-level functions and classes together (into a single document)\n",
    "- Put remaining code into a separate document\n",
    "- Retains metadata about where each split comes from"
   ]
  },
  {
   "cell_type": "code",
   "execution_count": 5,
   "id": "b9c13770",
   "metadata": {},
   "outputs": [
    {
     "data": {
      "text/plain": [
       "7"
      ]
     },
     "execution_count": 5,
     "metadata": {},
     "output_type": "execute_result"
    }
   ],
   "source": [
    "# Load\n",
    "loader = GenericLoader.from_filesystem(\n",
    "    repo_path,\n",
    "    glob=\"**/*\",\n",
    "    suffixes=[\".go\"],\n",
    "    parser=LanguageParser(language=Language.GO, parser_threshold=500),\n",
    ")\n",
    "documents = loader.load()\n",
    "len(documents)"
   ]
  },
  {
   "cell_type": "markdown",
   "id": "02c8fe79",
   "metadata": {},
   "source": [
    "### Splitting\n",
    "\n",
    "Split the Document into chunks for embedding and vector storage.\n",
    "\n",
    "We can use `RecursiveCharacterTextSplitter` with the language specified."
   ]
  },
  {
   "cell_type": "code",
   "execution_count": 6,
   "id": "b954ee49",
   "metadata": {},
   "outputs": [
    {
     "data": {
      "text/plain": [
       "7"
      ]
     },
     "execution_count": 6,
     "metadata": {},
     "output_type": "execute_result"
    }
   ],
   "source": [
    "from langchain.text_splitter import RecursiveCharacterTextSplitter\n",
    "\n",
    "go_splitter = RecursiveCharacterTextSplitter.from_language(\n",
    "    language=Language.GO, chunk_size=2000, chunk_overlap=200\n",
    ")\n",
    "texts = go_splitter.split_documents(documents)\n",
    "len(texts)"
   ]
  },
  {
   "cell_type": "code",
   "execution_count": 12,
   "id": "1f94e689",
   "metadata": {},
   "outputs": [
    {
     "name": "stdout",
     "output_type": "stream",
     "text": [
      "page_content='package main\\n\\nimport (\\n\\t\"context\"\\n\\t\"encoding/json\"\\n\\t\"fmt\"\\n\\t\"io\"\\n\\t\"net/http\"\\n\\t\"os\"\\n)\\n\\ntype MyEvent struct {\\n\\tName string `json:\"name\"`\\n}\\n\\ntype MyResponse struct {\\n\\tMessage string `json:\"message\"`\\n}\\n\\nfunc HandleRequest(ctx context.Context, event *MyEvent) (*MyResponse, error) {\\n\\tif event == nil {\\n\\t\\treturn nil, fmt.Errorf(\"received nil event\")\\n\\t}\\n\\tmessage := fmt.Sprintf(\"Hello %s!\", event.Name)\\n\\treturn &MyResponse{Message: message}, nil\\n}\\n\\nfunc azureHandler(w http.ResponseWriter, r *http.Request) {\\n\\tfmt.Printf(\"This HTTP triggered function executed successfully. Pass a name in the query string for a personalized response.\\\\n\")\\n\\treqData, err := io.ReadAll(r.Body)\\n\\tif err != nil {\\n\\t\\tfmt.Printf(\"error on reading request body: %v\\\\n\", err.Error())\\n\\t\\tw.WriteHeader(http.StatusBadRequest)\\n\\t\\tw.Write([]byte(err.Error()))\\n\\t\\treturn\\n\\t}\\n\\tvar event MyEvent\\n\\terr = json.Unmarshal(reqData, &event)\\n\\tif err != nil {\\n\\t\\tfmt.Printf(\"error unmarshalling request body: %v\\\\n\", err.Error())\\n\\t\\tw.WriteHeader(http.StatusBadRequest)\\n\\t\\tw.Write([]byte(err.Error()))\\n\\t\\treturn\\n\\t}\\n\\n\\tresponse, err := HandleRequest(r.Context(), &event)\\n\\tif err != nil {\\n\\t\\tfmt.Printf(\"error handling request: %v\\\\n\", err.Error())\\n\\t\\tw.WriteHeader(http.StatusInternalServerError)\\n\\t\\tw.Write([]byte(err.Error()))\\n\\t\\treturn\\n\\t}\\n\\n\\tresponseBytes, err := json.Marshal(response)\\n\\tif err != nil {\\n\\t\\tfmt.Printf(\"error marshalling response: %v\\\\n\", err.Error())\\n\\t\\tw.WriteHeader(http.StatusInternalServerError)\\n\\t\\tw.Write([]byte(err.Error()))\\n\\t\\treturn\\n\\t}\\n\\n\\tw.WriteHeader(http.StatusOK)\\n\\tw.Write(responseBytes)\\n}\\n\\nfunc main() {\\n\\tlistenAddr := \":8080\"\\n\\tif val, ok := os.LookupEnv(\"FUNCTIONS_CUSTOMHANDLER_PORT\"); ok {\\n\\t\\tlistenAddr = \":\" + val\\n\\t}\\n\\thttp.HandleFunc(\"/api/HttpExample\", azureHandler)\\n\\thttp.ListenAndServe(listenAddr, nil)\\n}' metadata={'source': '..\\\\app\\\\examples\\\\azfunction\\\\azfn.go', 'language': <Language.GO: 'go'>}\n"
     ]
    }
   ],
   "source": [
    "print(texts[0])"
   ]
  },
  {
   "cell_type": "markdown",
   "id": "bbee06e5",
   "metadata": {},
   "source": [
    "### RetrievalQA\n",
    "\n",
    "We need to store the documents in a way we can semantically search for their content.\n",
    "\n",
    "The most common approach is to embed the contents of each document then store the embedding and document in a vector store.\n",
    "\n",
    "When setting up the vectorstore retriever:\n",
    "\n",
    "We test max marginal relevance for retrieval\n",
    "And 8 documents returned"
   ]
  },
  {
   "cell_type": "code",
   "execution_count": 7,
   "id": "6d107913",
   "metadata": {},
   "outputs": [],
   "source": [
    "from langchain.embeddings import AzureOpenAIEmbeddings\n",
    "from langchain.vectorstores import Chroma\n",
    "\n",
    "embeddings = AzureOpenAIEmbeddings(\n",
    "    api_key=api_key,\n",
    "    azure_endpoint=base_url, \n",
    "    api_version=\"2023-07-01-preview\",\n",
    "    azure_deployment=\"text-embedding-ada-002\"\n",
    ")\n",
    "\n",
    "db = Chroma.from_documents(texts, embeddings)\n",
    "retriever = db.as_retriever(\n",
    "    search_type=\"mmr\",  # Also test \"similarity\"\n",
    "    search_kwargs={\"k\": 8},\n",
    ")"
   ]
  },
  {
   "cell_type": "markdown",
   "id": "4af1a902",
   "metadata": {},
   "source": [
    "### Chat\n",
    "Test chat, just as we do for chatbots."
   ]
  },
  {
   "cell_type": "code",
   "execution_count": 8,
   "id": "27c88ff6",
   "metadata": {},
   "outputs": [],
   "source": [
    "from langchain.chains import ConversationalRetrievalChain\n",
    "from langchain.chat_models import AzureChatOpenAI\n",
    "from langchain.memory import ConversationSummaryMemory\n",
    "\n",
    "llm = AzureChatOpenAI(\n",
    "    api_key=api_key,\n",
    "    azure_endpoint=base_url, \n",
    "    api_version=\"2023-07-01-preview\",\n",
    "    model=\"gpt-4\",\n",
    "    temperature=0\n",
    ")\n",
    "memory = ConversationSummaryMemory(\n",
    "    llm=llm, memory_key=\"chat_history\", return_messages=True\n",
    ")\n",
    "qa = ConversationalRetrievalChain.from_llm(llm, retriever=retriever, memory=memory)"
   ]
  },
  {
   "cell_type": "markdown",
   "id": "a1c4c91b",
   "metadata": {},
   "source": [
    "Let's start asking some questions about our code"
   ]
  },
  {
   "cell_type": "code",
   "execution_count": 9,
   "id": "12cf721f",
   "metadata": {},
   "outputs": [
    {
     "name": "stderr",
     "output_type": "stream",
     "text": [
      "Number of requested results 20 is greater than number of elements in index 7, updating n_results = 7\n"
     ]
    },
    {
     "data": {
      "text/plain": [
       "'The classes that contain AWS Lambda code are the ones that import the `github.com/aws/aws-lambda-go/lambda` package and use the `lambda.Start` function to start the Lambda handler. Based on the provided context, the following classes contain AWS Lambda code:\\n\\n1. The first class with the `HandleRequest` function that takes a `MyEvent` struct and returns a `MyResponse` struct.\\n2. The second class with the `HandleRequest` function that takes a `SaveRequest` struct and returns a `Response` struct.\\n\\nBoth of these classes are designed to be deployed as AWS Lambda functions, as indicated by their use of the `lambda.Start` function in their `main` functions.'"
      ]
     },
     "execution_count": 9,
     "metadata": {},
     "output_type": "execute_result"
    }
   ],
   "source": [
    "question = \"What classes include lambda code\"\n",
    "result = qa(question)\n",
    "result[\"answer\"]"
   ]
  },
  {
   "cell_type": "code",
   "execution_count": 11,
   "id": "478cbbc5",
   "metadata": {},
   "outputs": [
    {
     "name": "stderr",
     "output_type": "stream",
     "text": [
      "Number of requested results 20 is greater than number of elements in index 7, updating n_results = 7\n"
     ]
    },
    {
     "name": "stdout",
     "output_type": "stream",
     "text": [
      "-> **Question**: What is the file hierarchy? \n",
      "\n",
      "**Answer**: The provided context does not explicitly define a file hierarchy, but it does include multiple Go source files (`main` packages) that represent different AWS Lambda and Azure Functions handlers. Based on the context, we can infer a simple hierarchy where each file represents a separate function or handler within the project. Here's a conceptual representation of the file hierarchy based on the provided Go source files:\n",
      "\n",
      "```\n",
      "/\n",
      "|-- examples/\n",
      "|   `-- storage/\n",
      "|       `-- storage.go\n",
      "|\n",
      "|-- aws-lambda-go-handler-1.go\n",
      "|-- aws-lambda-go-handler-2.go\n",
      "|-- azure-function-go-handler-1.go\n",
      "|-- azure-function-go-handler-2.go\n",
      "|-- azure-function-go-handler-3.go\n",
      "|-- azure-function-go-handler-4.go\n",
      "```\n",
      "\n",
      "Here's a breakdown of the hierarchy:\n",
      "\n",
      "- The root directory (`/`) contains all the Go source files for different handlers.\n",
      "- The `examples` directory contains example code or shared libraries used by the handlers.\n",
      "- Inside the `examples` directory, there is a `storage` directory that contains the `storage.go` file, which defines a `Storage` interface and a concrete implementation for Azure storage operations.\n",
      "- The files `aws-lambda-go-handler-1.go` and `aws-lambda-go-handler-2.go` are AWS Lambda function handlers written in Go. They are separate and independent from each other.\n",
      "- The files `azure-function-go-handler-1.go`, `azure-function-go-handler-2.go`, `azure-function-go-handler-3.go`, and `azure-function-go-handler-4.go` are Azure Function handlers written in Go. They are also separate and independent from each other.\n",
      "\n",
      "Each Go source file contains a `main` package and a `main` function, indicating that they are intended to be built as standalone executables. This suggests that the project is structured to have multiple independent Lambda or Azure Function deployments rather than a single monolithic application. \n",
      "\n"
     ]
    },
    {
     "name": "stderr",
     "output_type": "stream",
     "text": [
      "Number of requested results 20 is greater than number of elements in index 7, updating n_results = 7\n"
     ]
    },
    {
     "name": "stdout",
     "output_type": "stream",
     "text": [
      "-> **Question**: What files use github.com/aws/aws-lambda-go/lambda? \n",
      "\n",
      "**Answer**: The files in the project that utilize the package `github.com/aws/aws-lambda-go/lambda` are:\n",
      "\n",
      "1. The first file with the `HandleRequest` function that takes a `MyEvent` struct and returns a `MyResponse` struct.\n",
      "2. The second file with the `HandleRequest` function that takes a `SaveRequest` struct and returns a `Response` struct. \n",
      "\n"
     ]
    },
    {
     "name": "stderr",
     "output_type": "stream",
     "text": [
      "Number of requested results 20 is greater than number of elements in index 7, updating n_results = 7\n"
     ]
    },
    {
     "name": "stdout",
     "output_type": "stream",
     "text": [
      "-> **Question**: What one improvement do you propose to remove lambda code? \n",
      "\n",
      "**Answer**: One proposed improvement for removing AWS Lambda code from the project is the transition to using Azure Functions with HTTP triggers. This is evident from the provided context where the original AWS Lambda functions, which are designed to handle events in the AWS ecosystem, are being converted to work with Azure's serverless platform.\n",
      "\n",
      "The code snippets show the evolution from using the AWS Lambda Go SDK (`github.com/aws/aws-lambda-go/lambda`) to using standard Go HTTP handling (`net/http`) and the Gin web framework (`github.com/gin-gonic/gin`) for setting up HTTP endpoints. This allows the functions to be triggered by HTTP requests instead of AWS-specific event sources.\n",
      "\n",
      "The final code snippets demonstrate the functions being adapted to work as Azure Functions with HTTP triggers, where the `azureHandler` function is set up to handle incoming HTTP requests, process them, and return HTTP responses. This is a common pattern when migrating from AWS Lambda to Azure Functions, as it allows for a similar event-driven architecture but within the Azure ecosystem. \n",
      "\n"
     ]
    }
   ],
   "source": [
    "questions = [\n",
    "    \"What is the file hierarchy?\",\n",
    "    \"What files use github.com/aws/aws-lambda-go/lambda?\",\n",
    "    \"What one improvement do you propose to remove lambda code?\",\n",
    "]\n",
    "\n",
    "for question in questions:\n",
    "    result = qa(question)\n",
    "    print(f\"-> **Question**: {question} \\n\")\n",
    "    print(f\"**Answer**: {result['answer']} \\n\")"
   ]
  },
  {
   "cell_type": "code",
   "execution_count": 13,
   "id": "a21e8dbb",
   "metadata": {},
   "outputs": [
    {
     "name": "stderr",
     "output_type": "stream",
     "text": [
      "Number of requested results 20 is greater than number of elements in index 7, updating n_results = 7\n"
     ]
    },
    {
     "data": {
      "text/plain": [
       "\"Based on the provided context, it appears that there are multiple Go files, each containing a `main` package and a `main` function. This suggests that these files are intended to be separate executables, rather than a single Go project with a shared file structure. In a typical Go project, you would have a single `main` package with one `main` function that serves as the entry point of the application.\\n\\nHowever, if we were to organize these files into a single Go project, we would need to refactor the code to avoid multiple `main` functions and to properly separate concerns. Below is an example of how you might structure a Go project with shared packages and a single entry point:\\n\\n```\\nmy-go-project/\\n├── cmd/\\n│   └── server/\\n│       └── main.go          # Contains the main function and server setup\\n├── internal/\\n│   ├── handler/\\n│   │   └── handler.go       # Contains HTTP and Lambda handlers\\n│   └── storage/\\n│       └── storage.go       # Contains the storage interface and its implementations\\n├── pkg/\\n│   └── models/\\n│       └── models.go        # Contains request and response structs\\n└── go.mod                   # Go module file\\n└── go.sum                   # Go sum file\\n```\\n\\nIn this structure:\\n\\n- `cmd/server/main.go` would be the entry point of the application, setting up the server and routing.\\n- `internal/handler/handler.go` would contain the logic for handling HTTP requests and AWS Lambda events.\\n- `internal/storage/storage.go` would define the `Storage` interface and its implementation, such as `NewAzureStorage`.\\n- `pkg/models/models.go` would contain the definitions for shared data structures like `SaveRequest`, `Response`, `MyEvent`, and `MyResponse`.\\n- `go.mod` and `go.sum` are at the root of the project and define the module's dependencies.\\n\\nThis is just an example, and the actual structure could vary based on the project's requirements and the developer's preferences. It's also important to note that the code would need to be refactored to fit into this structure, as you cannot have multiple `main` functions in a single Go executable.\""
      ]
     },
     "execution_count": 13,
     "metadata": {},
     "output_type": "execute_result"
    }
   ],
   "source": [
    "question = \"that's not the file structure can you try again?\"\n",
    "result = qa(question)\n",
    "result[\"answer\"]"
   ]
  }
 ],
 "metadata": {
  "kernelspec": {
   "display_name": "Python 3 (ipykernel)",
   "language": "python",
   "name": "python3"
  },
  "language_info": {
   "codemirror_mode": {
    "name": "ipython",
    "version": 3
   },
   "file_extension": ".py",
   "mimetype": "text/x-python",
   "name": "python",
   "nbconvert_exporter": "python",
   "pygments_lexer": "ipython3",
   "version": "3.11.5"
  }
 },
 "nbformat": 4,
 "nbformat_minor": 5
}
