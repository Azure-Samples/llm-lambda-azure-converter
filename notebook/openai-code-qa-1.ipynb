{
 "cells": [
  {
   "cell_type": "markdown",
   "id": "432ba143",
   "metadata": {},
   "source": [
    "# OpenAI tests for lambda - azure function converter\n",
    "\n",
    "## Testing RAG over Code\n",
    "\n",
    "In this Notebook we'll follow the instructions from the langchain website for RAG with code [here](https://python.langchain.com/docs/use_cases/question_answering/code_understanding)"
   ]
  },
  {
   "cell_type": "markdown",
   "id": "b4caffe1",
   "metadata": {},
   "source": [
    "### Install the necessary libraries"
   ]
  },
  {
   "cell_type": "code",
   "execution_count": null,
   "id": "bc936208",
   "metadata": {},
   "outputs": [],
   "source": [
    "pip install langchain"
   ]
  },
  {
   "cell_type": "code",
   "execution_count": null,
   "id": "509b1e08",
   "metadata": {},
   "outputs": [],
   "source": [
    "pip install openai"
   ]
  },
  {
   "cell_type": "code",
   "execution_count": null,
   "id": "fc97f3ef",
   "metadata": {},
   "outputs": [],
   "source": [
    "pip install chromadb"
   ]
  },
  {
   "cell_type": "code",
   "execution_count": null,
   "id": "5584c760",
   "metadata": {},
   "outputs": [],
   "source": [
    "pip install tiktoken"
   ]
  },
  {
   "cell_type": "code",
   "execution_count": null,
   "id": "f1621606",
   "metadata": {},
   "outputs": [],
   "source": [
    "pip install python-dotenv"
   ]
  },
  {
   "cell_type": "markdown",
   "id": "9e6cc16f",
   "metadata": {},
   "source": [
    "### Setup\n",
    "\n",
    "Import the libraries and environment variables to gain access to the `Open API Key`"
   ]
  },
  {
   "cell_type": "code",
   "execution_count": 1,
   "id": "fd8d1ec2",
   "metadata": {},
   "outputs": [
    {
     "name": "stdout",
     "output_type": "stream",
     "text": [
      "https://devsquad-eastus-2.openai.azure.com/\n"
     ]
    }
   ],
   "source": [
    "from langchain.document_loaders.generic import GenericLoader\n",
    "from langchain.document_loaders.parsers import LanguageParser\n",
    "from langchain.text_splitter import Language\n",
    "\n",
    "import os\n",
    "from dotenv import load_dotenv, find_dotenv\n",
    "_ = load_dotenv(find_dotenv()) # read local .env file\n",
    "\n",
    "api_key=os.environ['OPENAI_API_KEY']\n",
    "base_url=os.environ['OPENAI_BASE_URL']\n",
    "api_version=os.environ['OPENAI_API_VERSION']\n",
    "\n",
    "print(base_url)"
   ]
  },
  {
   "cell_type": "markdown",
   "id": "9d3964d6",
   "metadata": {},
   "source": [
    "### Loading the code\n",
    "\n",
    "We will upload all the go project files using the `langchain.document_loaders.TextLoader`. Let's define the target path with the code we want to use for RAG. "
   ]
  },
  {
   "cell_type": "code",
   "execution_count": 2,
   "id": "0af16d2f",
   "metadata": {},
   "outputs": [],
   "source": [
    "repo_path = \"../go-examples\""
   ]
  },
  {
   "cell_type": "markdown",
   "id": "0a7716a5",
   "metadata": {},
   "source": [
    "We load the go code using `LanguageParser`, which will:\n",
    "\n",
    "- Keep top-level functions and classes together (into a single document)\n",
    "- Put remaining code into a separate document\n",
    "- Retains metadata about where each split comes from"
   ]
  },
  {
   "cell_type": "code",
   "execution_count": 3,
   "id": "b9c13770",
   "metadata": {},
   "outputs": [
    {
     "data": {
      "text/plain": [
       "21"
      ]
     },
     "execution_count": 3,
     "metadata": {},
     "output_type": "execute_result"
    }
   ],
   "source": [
    "# Load\n",
    "loader = GenericLoader.from_filesystem(\n",
    "    repo_path,\n",
    "    glob=\"**/*\",\n",
    "    suffixes=[\".go\"],\n",
    "    parser=LanguageParser(language=Language.GO, parser_threshold=500),\n",
    ")\n",
    "documents = loader.load()\n",
    "len(documents)"
   ]
  },
  {
   "cell_type": "markdown",
   "id": "02c8fe79",
   "metadata": {},
   "source": [
    "### Splitting\n",
    "\n",
    "Split the Document into chunks for embedding and vector storage.\n",
    "\n",
    "We can use `RecursiveCharacterTextSplitter` with the language specified."
   ]
  },
  {
   "cell_type": "code",
   "execution_count": 4,
   "id": "b954ee49",
   "metadata": {},
   "outputs": [
    {
     "data": {
      "text/plain": [
       "66"
      ]
     },
     "execution_count": 4,
     "metadata": {},
     "output_type": "execute_result"
    }
   ],
   "source": [
    "from langchain.text_splitter import RecursiveCharacterTextSplitter\n",
    "\n",
    "go_splitter = RecursiveCharacterTextSplitter.from_language(\n",
    "    language=Language.GO, chunk_size=500, chunk_overlap=0\n",
    ")\n",
    "texts = go_splitter.split_documents(documents)\n",
    "len(texts)"
   ]
  },
  {
   "cell_type": "code",
   "execution_count": 6,
   "id": "1f94e689",
   "metadata": {},
   "outputs": [
    {
     "name": "stdout",
     "output_type": "stream",
     "text": [
      "[Document(page_content='package main\\n\\nimport (\\n\\t\"context\"\\n\\t\"fmt\"\\n\\n\\t\"github.com/aws/aws-lambda-go/lambda\"\\n)\\n\\ntype MyEvent struct {\\n\\tName string `json:\"name\"`\\n}\\n\\ntype MyResponse struct {\\n\\tMessage string `json:\"message\"`\\n}\\n\\nfunc HandleRequest(ctx context.Context, event *MyEvent) (*MyResponse, error) {\\n\\tif event == nil {\\n\\t\\treturn nil, fmt.Errorf(\"received nil event\")\\n\\t}\\n\\tmessage := fmt.Sprintf(\"Hello %s!\", event.Name)\\n\\treturn &MyResponse{Message: message}, nil\\n}\\n\\nfunc main() {\\n\\tlambda.Start(HandleRequest)\\n}', metadata={'source': '..\\\\go-examples\\\\examples\\\\gin\\\\basic-conversion-1\\\\input\\\\main.go', 'language': <Language.GO: 'go'>}), Document(page_content='package main\\n\\nimport (\\n\\t\"fmt\"\\n\\t\"log\"\\n\\t\"net/http\"\\n\\t\"os\"\\n\\n\\t\"github.com/gin-gonic/gin\"\\n)\\n\\nconst (\\n\\tEnvVarAzureFunctionPort = \"FUNCTIONS_PORT\"\\n)\\n\\ntype MyEvent struct {\\n\\tName string `json:\"name\"`\\n}\\n\\ntype MyResponse struct {\\n\\tMessage string `json:\"message\"`\\n}', metadata={'source': '..\\\\go-examples\\\\examples\\\\gin\\\\basic-conversion-1\\\\output\\\\main.go', 'language': <Language.GO: 'go'>}), Document(page_content='func HandleRequest(ctx *gin.Context)  {\\n\\tif ctx.Request.Body == nil {\\n\\t\\terrorMsg := \"received nil event\"\\n\\t\\tctx.JSON(http.StatusBadRequest, gin.H{\"error\": errorMsg})\\n\\t\\treturn \\n\\t}\\n\\n\\tvar event MyEvent\\n\\terr := ctx.Bind(&event)\\n\\tif err != nil {\\n\\t\\terrorMsg := fmt.Sprintf(\"error on reading request body: %v\\\\n\", err.Error())\\n\\t\\tctx.JSON(http.StatusBadRequest, gin.H{\"error\": errorMsg})\\n\\t\\treturn\\n\\t}\\n\\n\\tmessage := fmt.Sprintf(\"Hello %s!\", event.Name)\\n\\tctx.JSON(http.StatusOK, &MyResponse{Message: message})\\n}', metadata={'source': '..\\\\go-examples\\\\examples\\\\gin\\\\basic-conversion-1\\\\output\\\\main.go', 'language': <Language.GO: 'go'>}), Document(page_content='func main() {\\n\\tr := gin.Default()\\n\\tr.Handle(http.MethodPost, \"/HandleRequest\", HandleRequest)\\n\\n\\tport := os.Getenv(EnvVarAzureFunctionPort)\\n\\tif port == \"\" {\\n\\t\\tport = \"8080\"\\n\\t}\\n\\thost := fmt.Sprintf(\"0.0.0.0:%s\", port)\\n\\tfmt.Printf(\"Go server Listening...on port: %s\\\\n\", port)\\n\\tlog.Fatal(r.Run(host))\\n}', metadata={'source': '..\\\\go-examples\\\\examples\\\\gin\\\\basic-conversion-1\\\\output\\\\main.go', 'language': <Language.GO: 'go'>}), Document(page_content='package main\\n\\nimport (\\n\\t\"net/http\"\\n\\t\"net/http/httptest\"\\n\\t\"strings\"\\n\\t\"testing\"\\n\\n\\t\"github.com/gin-gonic/gin\"\\n\\t\"github.com/stretchr/testify/assert\"\\n)', metadata={'source': '..\\\\go-examples\\\\examples\\\\gin\\\\basic-conversion-1\\\\output\\\\main_test.go', 'language': <Language.GO: 'go'>})]\n"
     ]
    }
   ],
   "source": [
    "print(texts[0:5])"
   ]
  },
  {
   "cell_type": "markdown",
   "id": "bbee06e5",
   "metadata": {},
   "source": [
    "### RetrievalQA\n",
    "\n",
    "We need to store the documents in a way we can semantically search for their content.\n",
    "\n",
    "The most common approach is to embed the contents of each document then store the embedding and document in a vector store.\n",
    "\n",
    "When setting up the vectorstore retriever:\n",
    "\n",
    "We test max marginal relevance for retrieval\n",
    "And 8 documents returned"
   ]
  },
  {
   "cell_type": "code",
   "execution_count": 8,
   "id": "6d107913",
   "metadata": {},
   "outputs": [],
   "source": [
    "from langchain.embeddings import AzureOpenAIEmbeddings\n",
    "from langchain.vectorstores import Chroma\n",
    "\n",
    "embeddings = AzureOpenAIEmbeddings(\n",
    "    api_key=api_key,\n",
    "    azure_endpoint=base_url, \n",
    "    api_version=api_version,\n",
    "    azure_deployment=\"text-embedding-ada-002\"\n",
    ")\n",
    "\n",
    "db = Chroma.from_documents(texts, embeddings)\n",
    "retriever = db.as_retriever(\n",
    "    search_type=\"mmr\",  # Also test \"similarity\"\n",
    "    search_kwargs={\"k\": 8},\n",
    ")"
   ]
  },
  {
   "cell_type": "markdown",
   "id": "4af1a902",
   "metadata": {},
   "source": [
    "### Chat\n",
    "Test chat, just as we do for chatbots."
   ]
  },
  {
   "cell_type": "code",
   "execution_count": 9,
   "id": "27c88ff6",
   "metadata": {},
   "outputs": [],
   "source": [
    "from langchain.chains import ConversationalRetrievalChain\n",
    "from langchain.chat_models import AzureChatOpenAI\n",
    "from langchain.memory import ConversationSummaryMemory\n",
    "\n",
    "llm = AzureChatOpenAI(\n",
    "    api_key=api_key,\n",
    "    azure_endpoint=base_url, \n",
    "    api_version=api_version,\n",
    "    model=\"gpt-4\",\n",
    "    temperature=0\n",
    ")\n",
    "memory = ConversationSummaryMemory(\n",
    "    llm=llm, memory_key=\"chat_history\", return_messages=True\n",
    ")\n",
    "qa = ConversationalRetrievalChain.from_llm(llm, retriever=retriever, memory=memory)"
   ]
  },
  {
   "cell_type": "markdown",
   "id": "a1c4c91b",
   "metadata": {},
   "source": [
    "Let's start asking some questions about our code"
   ]
  },
  {
   "cell_type": "code",
   "execution_count": 10,
   "id": "12cf721f",
   "metadata": {},
   "outputs": [
    {
     "data": {
      "text/plain": [
       "\"The provided context includes multiple Go source files, and several of them contain AWS Lambda function code. The Lambda function code is identifiable by the use of the `github.com/aws/aws-lambda-go/lambda` package and the invocation of `lambda.Start()` with a handler function. Based on the context provided, the following files contain AWS Lambda function code:\\n\\n1. The file that contains the `HandleRequest` function, which is a Lambda handler function that takes an `Event` struct and returns a greeting message. This is a typical Lambda function setup in Go.\\n\\n2. The file that contains the `LambdaHandler` function, which seems to be a handler for a Lambda function, although it's not following the standard naming convention (`HandleRequest` or similar) and it's using `ctx *gin.Context`, which suggests it might be part of an API Gateway integration using the Gin framework. However, it's not clear if this is a complete Lambda function since there's no `lambda.Start()` invocation shown in the provided context.\\n\\nThe other snippets of code provided seem to be parts of Lambda function code or related utilities, but without the full context or the `lambda.Start()` invocation, it's not possible to definitively identify them as complete Lambda function files.\""
      ]
     },
     "execution_count": 10,
     "metadata": {},
     "output_type": "execute_result"
    }
   ],
   "source": [
    "question = \"What files include lambda code\"\n",
    "result = qa(question)\n",
    "result[\"answer\"]"
   ]
  },
  {
   "cell_type": "code",
   "execution_count": 11,
   "id": "478cbbc5",
   "metadata": {},
   "outputs": [
    {
     "name": "stdout",
     "output_type": "stream",
     "text": [
      "-> **Question**: What is the file hierarchy? \n",
      "\n",
      "**Answer**: Based on the provided context, it appears that there are snippets of Go (Golang) code intended for AWS Lambda functions. However, the file hierarchy or directory structure is not explicitly provided in the context. Typically, Go projects have a specific structure, but without explicit directory names or paths, I can only speculate on a common structure.\n",
      "\n",
      "A typical Go project might look like this:\n",
      "\n",
      "```\n",
      "/my-lambda-project\n",
      "  /cmd\n",
      "    /mylambdafunction\n",
      "      main.go\n",
      "  /pkg\n",
      "    /jokes\n",
      "      jokes.go\n",
      "  /internal\n",
      "    /util\n",
      "      util.go\n",
      "  go.mod\n",
      "  go.sum\n",
      "```\n",
      "\n",
      "In this hypothetical structure:\n",
      "\n",
      "- `/cmd` contains the entry points for the application, with each subdirectory representing a different Lambda function.\n",
      "- `/pkg` might contain library code that's intended to be used by other applications.\n",
      "- `/internal` contains private application and library code.\n",
      "- `go.mod` and `go.sum` are at the root of the project and define the module's dependencies.\n",
      "\n",
      "However, the actual file hierarchy for the provided code snippets is not given, so I cannot describe the exact structure. Each of the code snippets seems to represent a different Lambda function or a part of a Lambda function, but without more information, it's not possible to determine how these files are organized on the filesystem. \n",
      "\n",
      "-> **Question**: What files use github.com/aws/aws-lambda-go/lambda? \n",
      "\n",
      "**Answer**: The import statement for the package `github.com/aws/aws-lambda-go/lambda` is found in the following files:\n",
      "\n",
      "1. The first code snippet, which starts with `package main` and imports `context`, `encoding/json`, `github.com/aws/aws-lambda-go/events`, `runtime \"github.com/aws/aws-lambda-go/lambda\"`, etc.\n",
      "2. The second code snippet, which starts with `package main` and imports `context`, `github.com/aws/aws-lambda-go/lambda`, `github.com/aws/aws-sdk-go-v2/config`, etc.\n",
      "3. The third code snippet, which starts with `package main` and imports `context` and `github.com/aws/aws-lambda-go/lambda`.\n",
      "4. The fourth code snippet, which starts with `package main` and imports `math/rand` and `github.com/aws/aws-lambda-go/lambda`. \n",
      "\n",
      "-> **Question**: What one improvement do you propose to remove lambda code? \n",
      "\n",
      "**Answer**: To improve the project by removing or refactoring the Lambda code, you can consider the following suggestions:\n",
      "\n",
      "1. **Remove Unused Code**: If there are any functions, variables, or imports that are not being used in the Lambda functions, they should be removed to clean up the codebase.\n",
      "\n",
      "2. **Error Handling**: Ensure that all errors are handled properly. For example, in the `callLambda` function, the error from `json.Marshal` is ignored. It's better to handle the error instead of ignoring it.\n",
      "\n",
      "3. **Logging**: Standardize the logging across all Lambda functions. Decide on a logging format and stick to it. Also, consider if all the logged information is necessary, as excessive logging can make it difficult to find important information.\n",
      "\n",
      "4. **Environment Variables**: If there are environment variables that are not being used, they should be removed. Also, sensitive information should not be logged.\n",
      "\n",
      "5. **Global Variables**: Be cautious with global variables like `invokeCount` in `LambdaHandler`. If the intention is to keep a count of invocations, remember that global variables can lead to unexpected behavior due to the stateless nature of Lambda functions and concurrent executions.\n",
      "\n",
      "6. **Code Duplication**: If there is any duplicated code across different Lambda functions, consider refactoring it into a common utility function that can be imported and used in multiple places.\n",
      "\n",
      "7. **Context Usage**: In the first code snippet, the `ctx.Deadline()` is called but the second return value (which indicates if the deadline is set) is ignored. It's better to handle this properly to avoid potential issues.\n",
      "\n",
      "8. **HTTP Routing**: In the code snippet with the `gin.Default()` router, it's not clear why the Lambda function is setting up an HTTP server. AWS Lambda is typically used with API Gateway or other AWS services for HTTP interactions. If this is meant to be used with AWS Lambda, the HTTP server setup may be unnecessary and can be removed.\n",
      "\n",
      "9. **Consistent Error Responses**: Ensure that the error responses are consistent across different Lambda functions. For example, in the `callLambda` function, the error is returned as a string, whereas in the `handler` function, it's returned as an error type.\n",
      "\n",
      "10. **Optimize Imports**: Remove any unused imports to keep the code clean and reduce the deployment package size.\n",
      "\n",
      "11. **Configuration Management**: Instead of hardcoding values like port numbers, consider using a configuration management system or environment variables.\n",
      "\n",
      "12. **Testing**: Add unit tests for the Lambda functions to ensure that refactoring does not break existing functionality.\n",
      "\n",
      "13. **Comments and Documentation**: Add comments to explain complex logic and ensure that the code is well-documented for future maintainers.\n",
      "\n",
      "14. **Concurrency and State Management**: Be aware of the Lambda execution model, especially when dealing with stateful operations or external resources.\n",
      "\n",
      "By applying these suggestions, you can improve the maintainability, performance, and reliability of your Lambda functions. \n",
      "\n"
     ]
    }
   ],
   "source": [
    "questions = [\n",
    "    \"What is the file hierarchy?\",\n",
    "    \"What files use github.com/aws/aws-lambda-go/lambda?\",\n",
    "    \"What one improvement do you propose to remove lambda code?\",\n",
    "]\n",
    "\n",
    "for question in questions:\n",
    "    result = qa(question)\n",
    "    print(f\"-> **Question**: {question} \\n\")\n",
    "    print(f\"**Answer**: {result['answer']} \\n\")"
   ]
  },
  {
   "cell_type": "code",
   "execution_count": 14,
   "id": "a21e8dbb",
   "metadata": {},
   "outputs": [
    {
     "data": {
      "text/plain": [
       "'The first code snippet contains code for AWS S3 operations. It initializes an S3 client and lists objects in an S3 bucket named \"examplebucket\". Here is the relevant part of the code that deals with S3:\\n\\n```go\\nimport (\\n\\t\"context\"\\n\\t\"github.com/aws/aws-sdk-go-v2/config\"\\n\\t\"github.com/aws/aws-sdk-go-v2/service/s3\"\\n\\t\"github.com/aws/aws-sdk-go-v2/service/s3/types\"\\n\\t\"log\"\\n)\\n\\n// ...\\n\\nvar myObjects []types.Object\\n\\nfunc init() {\\n\\t// Load the SDK configuration\\n\\tcfg, err := config.LoadDefaultConfig(context.TODO())\\n\\tif err != nil {\\n\\t\\tlog.Fatalf(\"Unable to load SDK config: %v\", err)\\n\\t}\\n\\n\\t// Initialize an S3 client\\n\\tsvc := s3.NewFromConfig(cfg)\\n\\n\\t// Define the bucket name as a variable so we can take its address\\n\\tbucketName := \"examplebucket\"\\n\\tinput := &s3.ListObjectsV2Input{\\n\\t\\tBucket: &bucketName,\\n\\t}\\n\\n\\t// List objects in the bucket\\n\\tresult, err := svc.ListObjectsV2(context.TODO(), input)\\n\\tif err != nil {\\n\\t\\tlog.Fatalf(\"Failed to list objects: %v\", err)\\n\\t}\\n\\tmyObjects = result.Contents\\n}\\n```\\n\\nThis code is responsible for configuring the AWS SDK, creating an S3 client, and listing the objects in the specified S3 bucket.'"
      ]
     },
     "execution_count": 14,
     "metadata": {},
     "output_type": "execute_result"
    }
   ],
   "source": [
    "question = \"name the files that use aws s3\"\n",
    "result = qa(question)\n",
    "result[\"answer\"]"
   ]
  }
 ],
 "metadata": {
  "kernelspec": {
   "display_name": "Python 3 (ipykernel)",
   "language": "python",
   "name": "python3"
  },
  "language_info": {
   "codemirror_mode": {
    "name": "ipython",
    "version": 3
   },
   "file_extension": ".py",
   "mimetype": "text/x-python",
   "name": "python",
   "nbconvert_exporter": "python",
   "pygments_lexer": "ipython3",
   "version": "3.11.5"
  }
 },
 "nbformat": 4,
 "nbformat_minor": 5
}
